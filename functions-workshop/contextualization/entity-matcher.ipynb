{
 "cells": [
  {
   "cell_type": "markdown",
   "metadata": {},
   "source": [
    "# Entity Matcher in production - contextualize time series to assets using Cognite Functions"
   ]
  },
  {
   "cell_type": "markdown",
   "metadata": {},
   "source": [
    "For every new customer, we ingest their data and perform some sort of contextualization by mapping time series to assets. Quite often, there is not an identical match between a field on the time series to e.g. the asset name, but a somewhat similar name. The most typical example we use in Cognite is the asset `21PT1019` and the time series `IAA_21PT1019.PV` or similar. In our contextualization toolbox (an [API](https://docs.cognite.com/api/playground/#operation/entityMatchingFit) with a corresponding [https://cognite-sdk-experimental.readthedocs-hosted.com/en/latest/cognite.html#contextualization](SDK)), we have a tool to solve this problem called entity matching. Entity matching means joining two datasets one a common key with fuzzyness, and our implementation is a machine learning model that can be trained supervised or unsupervised. \n",
    "\n",
    "In this tutorial, we'll take the time series and assets from the `publicdata` tenant, and deploy a Cognite Function that performs entity matching to map the time series to assets, and schedule it so it runs periodically. This can be used out of the box for many customers as an initial contextualization step. "
   ]
  },
  {
   "cell_type": "code",
   "execution_count": 3,
   "metadata": {},
   "outputs": [],
   "source": [
    "from getpass import getpass\n",
    "from cognite.experimental import CogniteClient"
   ]
  },
  {
   "cell_type": "code",
   "execution_count": 10,
   "metadata": {},
   "outputs": [
    {
     "name": "stdin",
     "output_type": "stream",
     "text": [
      " ················································\n"
     ]
    }
   ],
   "source": [
    "api_key = getpass()\n",
    "client = CogniteClient(\n",
    "    api_key=api_key,\n",
    "    project=\"functions-tutorial\",\n",
    "    client_name=\"DSHub\",\n",
    "    base_url=\"https://greenfield.cognitedata.com\"\n",
    ")"
   ]
  },
  {
   "cell_type": "code",
   "execution_count": 46,
   "metadata": {},
   "outputs": [],
   "source": [
    "def handle(client, daanta):\n",
    "    # When deploying a function from a notebook like this, all imports must be performed inside the `handle` function.\n",
    "    from cognite.experimental import CogniteClient\n",
    "    from cognite.client.data_classes import TimeSeriesUpdate\n",
    "    import time\n",
    "    \n",
    "    # The entity matcher suggests matches with a certain score. To achieve a reasonable result, this score must be adjusted. \n",
    "    # The default value of 0.75 has been chosen by inspecting the outcome of this function, and may be different on data from other customers.\n",
    "    good_match_threshold = data.get(\"good_match_threshold\", 0.75)\n",
    "    \n",
    "    # Create experimental SDK client as the contextualization API's are in playground and are thus not available in the regular SDK.\n",
    "    client = CogniteClient(api_key = client.config.api_key,base_url = client.config.base_url, project = client.config.project)\n",
    "\n",
    "    # Download all assets and time series, using 5 requests in parallel\n",
    "    assets = client.assets.list(limit=-1, partitions=5)\n",
    "    time_series = client.time_series.list(limit=-1, partitions=5)\n",
    "    \n",
    "    # Create simplified objects with only name and id\n",
    "    assets_simplified = [{\"id\": asset.id, \"name\": asset.name} for asset in assets]\n",
    "    time_series_simplified = [{\"id\": ts.id, \"name\": ts.name} for ts in time_series]\n",
    "\n",
    "    # Train the ML Entity Matcher on the data. The SDK expects as input the array of objects you match FROM (time series) and a list of what you match TO (assets)\n",
    "    t0 = time.time()\n",
    "    model = client.entity_matching.fit_ml(match_from = time_series_simplified, match_to = assets_simplified)\n",
    "    print(f\"Training entity matcher model with id {model.model_id} ...\")\n",
    "    model.wait_for_completion()\n",
    "    t1 = time.time()\n",
    "    print(f\"Model {model.model_id} trained on {len(assets_simplified)} assets and {len(time_series_simplified)} events using {t1-t0} seconds\")\n",
    "\n",
    "    # Use the ML Entity Matcher model to match the data. This model can be reused, so training is not necessary each time, but we do it for simplicity in this example.\n",
    "    t0 = time.time()\n",
    "    job = model.predict_ml(time_series_simplified)\n",
    "    result = job.result # This will wait for completion\n",
    "    t1 = time.time()\n",
    "    print(f\"Predict finished after {t1-t0} seconds on {len(time_series_simplified)} time series.\")\n",
    "    \n",
    "    # Filter out the best matches with the threshold specified in the input\n",
    "    good_match_count = 0\n",
    "    time_series_updates = []\n",
    "    for item in result[\"items\"]:\n",
    "        match_from = item[\"matchFrom\"] # Time series\n",
    "        matches = item[\"matches\"] # Suggested asset matches for the time series\n",
    "        good_matches = [match for match in matches if match[\"score\"] >= good_match_threshold]\n",
    "        if len(good_matches) > 0:\n",
    "            good_match_count += 1\n",
    "            best_match = good_matches[0]\n",
    "            time_series_updates.append(TimeSeriesUpdate(id=match_from[\"id\"]).asset_id.set(best_match[\"matchTo\"][\"id\"]))\n",
    "    \n",
    "    client.time_series.update(time_series_updates) # uncomment to actually update the asset_id field\n",
    "    print(f\"Matched {good_match_count} time series to assets\")\n",
    "    return {\n",
    "        \"matches\": good_match_count\n",
    "    }\n"
   ]
  },
  {
   "cell_type": "markdown",
   "metadata": {},
   "source": [
    "Test the function by running it locally. We send in the `CogniteClient` and an empty dictionary."
   ]
  },
  {
   "cell_type": "code",
   "execution_count": 36,
   "metadata": {},
   "outputs": [
    {
     "name": "stdout",
     "output_type": "stream",
     "text": [
      "Training entity matcher model with id 3437015128748459 ...\n",
      "Model 3437015128748459 trained on 1106 assets and 363 events using 2.2561750411987305 seconds\n",
      "Predict finished after 2.529940366744995 seconds on 363 time series.\n",
      "Matched 270 time series to assets\n"
     ]
    }
   ],
   "source": [
    "result = handle(client, {})"
   ]
  },
  {
   "cell_type": "markdown",
   "metadata": {},
   "source": [
    "Now that we have verified that it works, we can create a Cognite Function that performs this on demand or by a schedule."
   ]
  },
  {
   "cell_type": "code",
   "execution_count": 38,
   "metadata": {},
   "outputs": [
    {
     "data": {
      "text/html": [
       "<div>\n",
       "<style scoped>\n",
       "    .dataframe tbody tr th:only-of-type {\n",
       "        vertical-align: middle;\n",
       "    }\n",
       "\n",
       "    .dataframe tbody tr th {\n",
       "        vertical-align: top;\n",
       "    }\n",
       "\n",
       "    .dataframe thead th {\n",
       "        text-align: right;\n",
       "    }\n",
       "</style>\n",
       "<table border=\"1\" class=\"dataframe\">\n",
       "  <thead>\n",
       "    <tr style=\"text-align: right;\">\n",
       "      <th></th>\n",
       "      <th>value</th>\n",
       "    </tr>\n",
       "  </thead>\n",
       "  <tbody>\n",
       "    <tr>\n",
       "      <th>id</th>\n",
       "      <td>1466241980543512</td>\n",
       "    </tr>\n",
       "    <tr>\n",
       "      <th>name</th>\n",
       "      <td>Anders entity matcher</td>\n",
       "    </tr>\n",
       "    <tr>\n",
       "      <th>external_id</th>\n",
       "      <td>Anders entity matcher</td>\n",
       "    </tr>\n",
       "    <tr>\n",
       "      <th>description</th>\n",
       "      <td>Entity matcher example</td>\n",
       "    </tr>\n",
       "    <tr>\n",
       "      <th>owner</th>\n",
       "      <td></td>\n",
       "    </tr>\n",
       "    <tr>\n",
       "      <th>status</th>\n",
       "      <td>Queued</td>\n",
       "    </tr>\n",
       "    <tr>\n",
       "      <th>file_id</th>\n",
       "      <td>114596068597375</td>\n",
       "    </tr>\n",
       "    <tr>\n",
       "      <th>created_time</th>\n",
       "      <td>1591630621919</td>\n",
       "    </tr>\n",
       "    <tr>\n",
       "      <th>api_key</th>\n",
       "      <td>***</td>\n",
       "    </tr>\n",
       "    <tr>\n",
       "      <th>secrets</th>\n",
       "      <td>{}</td>\n",
       "    </tr>\n",
       "  </tbody>\n",
       "</table>\n",
       "</div>"
      ],
      "text/plain": [
       "<cognite.experimental.data_classes.functions.Function at 0x7f6a30703b90>"
      ]
     },
     "execution_count": 38,
     "metadata": {},
     "output_type": "execute_result"
    }
   ],
   "source": [
    "name = \"Anders\"\n",
    "external_id = f\"{name} entity matcher\"\n",
    "function = client.functions.create(name = external_id, description = \"Entity matcher example\", external_id=external_id, api_key = api_key, function_handle = handle)"
   ]
  },
  {
   "cell_type": "code",
   "execution_count": 39,
   "metadata": {},
   "outputs": [
    {
     "data": {
      "text/html": [
       "<div>\n",
       "<style scoped>\n",
       "    .dataframe tbody tr th:only-of-type {\n",
       "        vertical-align: middle;\n",
       "    }\n",
       "\n",
       "    .dataframe tbody tr th {\n",
       "        vertical-align: top;\n",
       "    }\n",
       "\n",
       "    .dataframe thead th {\n",
       "        text-align: right;\n",
       "    }\n",
       "</style>\n",
       "<table border=\"1\" class=\"dataframe\">\n",
       "  <thead>\n",
       "    <tr style=\"text-align: right;\">\n",
       "      <th></th>\n",
       "      <th>value</th>\n",
       "    </tr>\n",
       "  </thead>\n",
       "  <tbody>\n",
       "    <tr>\n",
       "      <th>id</th>\n",
       "      <td>1466241980543512</td>\n",
       "    </tr>\n",
       "    <tr>\n",
       "      <th>name</th>\n",
       "      <td>Anders entity matcher</td>\n",
       "    </tr>\n",
       "    <tr>\n",
       "      <th>external_id</th>\n",
       "      <td>Anders entity matcher</td>\n",
       "    </tr>\n",
       "    <tr>\n",
       "      <th>description</th>\n",
       "      <td>Entity matcher example</td>\n",
       "    </tr>\n",
       "    <tr>\n",
       "      <th>owner</th>\n",
       "      <td></td>\n",
       "    </tr>\n",
       "    <tr>\n",
       "      <th>status</th>\n",
       "      <td>Ready</td>\n",
       "    </tr>\n",
       "    <tr>\n",
       "      <th>file_id</th>\n",
       "      <td>114596068597375</td>\n",
       "    </tr>\n",
       "    <tr>\n",
       "      <th>created_time</th>\n",
       "      <td>1591630621919</td>\n",
       "    </tr>\n",
       "    <tr>\n",
       "      <th>api_key</th>\n",
       "      <td>***</td>\n",
       "    </tr>\n",
       "    <tr>\n",
       "      <th>secrets</th>\n",
       "      <td>{}</td>\n",
       "    </tr>\n",
       "  </tbody>\n",
       "</table>\n",
       "</div>"
      ],
      "text/plain": [
       "<cognite.experimental.data_classes.functions.Function at 0x7f6a30521e50>"
      ]
     },
     "execution_count": 39,
     "metadata": {},
     "output_type": "execute_result"
    }
   ],
   "source": [
    "# Run this until it shows status ready\n",
    "function = client.functions.retrieve(external_id = external_id)\n",
    "function"
   ]
  },
  {
   "cell_type": "code",
   "execution_count": 43,
   "metadata": {},
   "outputs": [],
   "source": [
    "function_call = function.call() # This will wait for the function call to complete."
   ]
  },
  {
   "cell_type": "code",
   "execution_count": 44,
   "metadata": {},
   "outputs": [
    {
     "data": {
      "text/html": [
       "<div>\n",
       "<style scoped>\n",
       "    .dataframe tbody tr th:only-of-type {\n",
       "        vertical-align: middle;\n",
       "    }\n",
       "\n",
       "    .dataframe tbody tr th {\n",
       "        vertical-align: top;\n",
       "    }\n",
       "\n",
       "    .dataframe thead th {\n",
       "        text-align: right;\n",
       "    }\n",
       "</style>\n",
       "<table border=\"1\" class=\"dataframe\">\n",
       "  <thead>\n",
       "    <tr style=\"text-align: right;\">\n",
       "      <th></th>\n",
       "      <th>timestamp</th>\n",
       "      <th>message</th>\n",
       "    </tr>\n",
       "  </thead>\n",
       "  <tbody>\n",
       "    <tr>\n",
       "      <th>0</th>\n",
       "      <td>1591631396957</td>\n",
       "      <td>Training entity matcher model with id 18085672...</td>\n",
       "    </tr>\n",
       "    <tr>\n",
       "      <th>1</th>\n",
       "      <td>1591631397998</td>\n",
       "      <td>Model 1808567244913639 trained on 1106 assets ...</td>\n",
       "    </tr>\n",
       "    <tr>\n",
       "      <th>2</th>\n",
       "      <td>1591631400477</td>\n",
       "      <td>Predict finished after 2.479564666748047 secon...</td>\n",
       "    </tr>\n",
       "    <tr>\n",
       "      <th>3</th>\n",
       "      <td>1591631400930</td>\n",
       "      <td>Matched 270 time series to assets</td>\n",
       "    </tr>\n",
       "  </tbody>\n",
       "</table>\n",
       "</div>"
      ],
      "text/plain": [
       "[<cognite.experimental.data_classes.functions.FunctionCallLogEntry object at 0x7f6a1413ca50>, <cognite.experimental.data_classes.functions.FunctionCallLogEntry object at 0x7f6a1413cb10>, <cognite.experimental.data_classes.functions.FunctionCallLogEntry object at 0x7f6a1413c150>, <cognite.experimental.data_classes.functions.FunctionCallLogEntry object at 0x7f6a1413c790>]"
      ]
     },
     "execution_count": 44,
     "metadata": {},
     "output_type": "execute_result"
    }
   ],
   "source": [
    "function_call.get_logs()"
   ]
  },
  {
   "cell_type": "code",
   "execution_count": 45,
   "metadata": {},
   "outputs": [
    {
     "data": {
      "text/html": [
       "<div>\n",
       "<style scoped>\n",
       "    .dataframe tbody tr th:only-of-type {\n",
       "        vertical-align: middle;\n",
       "    }\n",
       "\n",
       "    .dataframe tbody tr th {\n",
       "        vertical-align: top;\n",
       "    }\n",
       "\n",
       "    .dataframe thead th {\n",
       "        text-align: right;\n",
       "    }\n",
       "</style>\n",
       "<table border=\"1\" class=\"dataframe\">\n",
       "  <thead>\n",
       "    <tr style=\"text-align: right;\">\n",
       "      <th></th>\n",
       "      <th>value</th>\n",
       "    </tr>\n",
       "  </thead>\n",
       "  <tbody>\n",
       "    <tr>\n",
       "      <th>call_id</th>\n",
       "      <td>3647736147294311</td>\n",
       "    </tr>\n",
       "    <tr>\n",
       "      <th>function_id</th>\n",
       "      <td>1466241980543512</td>\n",
       "    </tr>\n",
       "    <tr>\n",
       "      <th>response</th>\n",
       "      <td>{'matches': 270}</td>\n",
       "    </tr>\n",
       "  </tbody>\n",
       "</table>\n",
       "</div>"
      ],
      "text/plain": [
       "<cognite.experimental.data_classes.functions.FunctionCallResponse at 0x7f6a3059a9d0>"
      ]
     },
     "execution_count": 45,
     "metadata": {},
     "output_type": "execute_result"
    }
   ],
   "source": [
    "function_call.get_response()"
   ]
  },
  {
   "cell_type": "code",
   "execution_count": 47,
   "metadata": {},
   "outputs": [
    {
     "data": {
      "text/html": [
       "<div>\n",
       "<style scoped>\n",
       "    .dataframe tbody tr th:only-of-type {\n",
       "        vertical-align: middle;\n",
       "    }\n",
       "\n",
       "    .dataframe tbody tr th {\n",
       "        vertical-align: top;\n",
       "    }\n",
       "\n",
       "    .dataframe thead th {\n",
       "        text-align: right;\n",
       "    }\n",
       "</style>\n",
       "<table border=\"1\" class=\"dataframe\">\n",
       "  <thead>\n",
       "    <tr style=\"text-align: right;\">\n",
       "      <th></th>\n",
       "      <th>value</th>\n",
       "    </tr>\n",
       "  </thead>\n",
       "  <tbody>\n",
       "    <tr>\n",
       "      <th>id</th>\n",
       "      <td>8454631847181861</td>\n",
       "    </tr>\n",
       "    <tr>\n",
       "      <th>name</th>\n",
       "      <td>Anders entity matcher</td>\n",
       "    </tr>\n",
       "    <tr>\n",
       "      <th>function_external_id</th>\n",
       "      <td>Anders entity matcher</td>\n",
       "    </tr>\n",
       "    <tr>\n",
       "      <th>description</th>\n",
       "      <td></td>\n",
       "    </tr>\n",
       "    <tr>\n",
       "      <th>cron_expression</th>\n",
       "      <td>* * * * *</td>\n",
       "    </tr>\n",
       "    <tr>\n",
       "      <th>created_time</th>\n",
       "      <td>1591631571174</td>\n",
       "    </tr>\n",
       "  </tbody>\n",
       "</table>\n",
       "</div>"
      ],
      "text/plain": [
       "<cognite.experimental.data_classes.functions.FunctionSchedule at 0x7f6a30588d50>"
      ]
     },
     "execution_count": 47,
     "metadata": {},
     "output_type": "execute_result"
    }
   ],
   "source": [
    "client.functions.schedules.create(name = f\"{name} entity matcher\", function_external_id=external_id, cron_expression = \"* * * * *\")"
   ]
  },
  {
   "cell_type": "code",
   "execution_count": null,
   "metadata": {},
   "outputs": [],
   "source": []
  }
 ],
 "metadata": {
  "kernelspec": {
   "display_name": "Python 3",
   "language": "python",
   "name": "python3"
  },
  "language_info": {
   "codemirror_mode": {
    "name": "ipython",
    "version": 3
   },
   "file_extension": ".py",
   "mimetype": "text/x-python",
   "name": "python",
   "nbconvert_exporter": "python",
   "pygments_lexer": "ipython3",
   "version": "3.7.6"
  }
 },
 "nbformat": 4,
 "nbformat_minor": 4
}
