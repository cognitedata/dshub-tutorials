{
 "cells": [
  {
   "cell_type": "markdown",
   "metadata": {},
   "source": [
    "# Importing Modules Example\n",
    "## Introduction\n",
    "In certain situations it will be convenient to separate the functionality of a task into multiple python modules or files. In this example, we create a function which imports another module to execute its functionality. Specifically, the function squares a number by importing a tranform helper function from another python module in the same folder as the [handler.py](handler.py) main module. \n",
    "\n",
    "**Documentation**:\n",
    "We will be using the Python SDK of Cognite Functions for which the documentation can be found here:\n",
    "\n",
    "https://cognite-sdk-experimental.readthedocs-hosted.com/en/latest/cognite.html#functions"
   ]
  },
  {
   "cell_type": "markdown",
   "metadata": {},
   "source": [
    "## Setup\n",
    "We first import the experimental CogniteClient and need to pass the client an api-key, which we retrieve via `getpass`."
   ]
  },
  {
   "cell_type": "code",
   "execution_count": null,
   "metadata": {
    "scrolled": true
   },
   "outputs": [],
   "source": [
    "from getpass import getpass\n",
    "from cognite.experimental import CogniteClient\n",
    "\n",
    "api_key = getpass()\n",
    "client = CogniteClient(\n",
    "    api_key=api_key,\n",
    "    project=\"functions-tutorial\",\n",
    "    client_name=\"DSHub\",\n",
    "    base_url=\"https://greenfield.cognitedata.com\"\n",
    ")"
   ]
  },
  {
   "cell_type": "markdown",
   "metadata": {},
   "source": [
    "## Defining our function"
   ]
  },
  {
   "cell_type": "markdown",
   "metadata": {},
   "source": [
    "In this example we define a function in two python modules, a [handler.py](handler.py) which contains the main `handle` function, which always needs to be present when defining a new function, and a [helper.py](helper.py) module. The latter module is called by the former to show how module dependencies can be used. The helper module is imported in the handler by writing `import helper` which we can do because it's contained in the same folder as the [handler.py](handler.py) module.\n",
    "\n",
    "Note that in [handler.py](handler.py), the function `handle` must have as arguments a subset of `(client, data, secrets)`. In this example we only need `data`. The data we give when calling the function, is passed through the `data` argument. "
   ]
  },
  {
   "cell_type": "markdown",
   "metadata": {},
   "source": [
    "## Testing the function locally\n",
    "Before we actually deploy the function to CDF, we can test it locally. First take a look at the two files [handler.py](handler.py) and [helper.py](helper.py), before you test the code."
   ]
  },
  {
   "cell_type": "code",
   "execution_count": null,
   "metadata": {},
   "outputs": [],
   "source": [
    "import handler\n",
    "handler.handle(data={\"value\": 2.0})"
   ]
  },
  {
   "cell_type": "markdown",
   "metadata": {},
   "source": [
    "## Deploying the function to CDF\n",
    "Next we deploy our function to CDF, by setting the argument `folder` to the relevant folder. At least one of the files in the folder must be named `handler.py`, and this file must have a function named `handle`, which is the function that will be executed in CDF."
   ]
  },
  {
   "cell_type": "markdown",
   "metadata": {},
   "source": [
    "First let's create a unique string as a function external id (e.g. your own name if it's unique to cognite)"
   ]
  },
  {
   "cell_type": "code",
   "execution_count": null,
   "metadata": {
    "scrolled": true
   },
   "outputs": [],
   "source": [
    "my_name =  # put your name as string here\n",
    "external_id = f\"my-transformer-{my_name}\""
   ]
  },
  {
   "cell_type": "code",
   "execution_count": null,
   "metadata": {
    "scrolled": true
   },
   "outputs": [],
   "source": [
    "function = client.functions.create(\n",
    "    name=external_id, # We just use external id as name so it is easier to find in Data Studio UI\n",
    "    external_id=external_id,\n",
    "    folder='.', # We will upload this directory\n",
    "    description=\"Square an input value\", \n",
    "    owner=\"kir@aker.com\")"
   ]
  },
  {
   "cell_type": "markdown",
   "metadata": {},
   "source": [
    "Next we can retrieve the function to see its status. It will start out as `Queued` and then go to `Deploying`. After a couple of minutes, the status will be `Ready`, and you can start to call your function. **NB:** All calls to the function before the function is `Ready` will fail."
   ]
  },
  {
   "cell_type": "code",
   "execution_count": null,
   "metadata": {
    "scrolled": true
   },
   "outputs": [],
   "source": [
    "# Repeat until status is ready\n",
    "function = client.functions.retrieve(external_id=external_id)\n",
    "function"
   ]
  },
  {
   "cell_type": "markdown",
   "metadata": {},
   "source": [
    "When the function is `Ready`, we can call it directly on the function object."
   ]
  },
  {
   "cell_type": "code",
   "execution_count": null,
   "metadata": {
    "scrolled": true
   },
   "outputs": [],
   "source": [
    "call1 = function.call(data={\"value\": 2})\n",
    "call1"
   ]
  },
  {
   "cell_type": "markdown",
   "metadata": {},
   "source": [
    "Note that the above calls are to the function in CDF, not the local function.\n",
    "\n",
    "To retrieve the response from the function, simply invoke the `get_response()` method on the call object:"
   ]
  },
  {
   "cell_type": "code",
   "execution_count": null,
   "metadata": {},
   "outputs": [],
   "source": [
    "response = call1.get_response()\n",
    "response"
   ]
  },
  {
   "cell_type": "markdown",
   "metadata": {},
   "source": [
    "## Handling failures\n",
    "If you get a failure you can look at the logs"
   ]
  },
  {
   "cell_type": "code",
   "execution_count": null,
   "metadata": {},
   "outputs": [],
   "source": [
    "call_bad = function.call(data={\"foo\": 2})\n",
    "call_bad"
   ]
  },
  {
   "cell_type": "code",
   "execution_count": null,
   "metadata": {},
   "outputs": [],
   "source": [
    "call_bad.get_logs()"
   ]
  },
  {
   "cell_type": "code",
   "execution_count": null,
   "metadata": {},
   "outputs": [],
   "source": [
    "call_bad.get_logs()[-2:] # Here we see the error"
   ]
  },
  {
   "cell_type": "markdown",
   "metadata": {},
   "source": [
    "### Schedules"
   ]
  },
  {
   "cell_type": "markdown",
   "metadata": {},
   "source": [
    "Schedules are objects that make the functions run at pre-defined intervals. For example, we can run a function every Monday at 7am or every other friday, etc. A schedule is defined with an associated function's external id and some input data. The interval syntax we use is called unix cron syntax, which is a string that contains the necessary information to decode a wide variaty of running intervals. More information about cron syntax can be found here: https://crontab.guru.\n",
    "\n",
    "Below is an example of a schedule that runs every minute on our defined function. Note that we can define multiple schedules on each function, each one with different input data."
   ]
  },
  {
   "cell_type": "code",
   "execution_count": null,
   "metadata": {},
   "outputs": [],
   "source": [
    "schedule = client.functions.schedules.create(\n",
    "    name=f\"Schedule 1\", \n",
    "    cron_expression=\"* * * * *\", \n",
    "    function_external_id=external_id,\n",
    "    data={\"value\": 2})\n",
    "schedule"
   ]
  },
  {
   "cell_type": "markdown",
   "metadata": {},
   "source": [
    "## List calls\n",
    "We can list all calls that have been made to the function:"
   ]
  },
  {
   "cell_type": "code",
   "execution_count": null,
   "metadata": {
    "scrolled": true
   },
   "outputs": [],
   "source": [
    "calls = function.list_calls()\n",
    "calls"
   ]
  },
  {
   "cell_type": "code",
   "execution_count": null,
   "metadata": {},
   "outputs": [],
   "source": [
    "calls[-1].get_response()"
   ]
  },
  {
   "cell_type": "markdown",
   "metadata": {},
   "source": [
    "## Cleanup\n",
    "Finally, we clean after ourselves by deleting our time series and function."
   ]
  },
  {
   "cell_type": "code",
   "execution_count": null,
   "metadata": {},
   "outputs": [],
   "source": [
    "client.functions.schedules.delete(id=schedule.id)"
   ]
  },
  {
   "cell_type": "code",
   "execution_count": null,
   "metadata": {},
   "outputs": [],
   "source": [
    "client.functions.delete(external_id=external_id)"
   ]
  },
  {
   "cell_type": "code",
   "execution_count": null,
   "metadata": {},
   "outputs": [],
   "source": [
    "client.functions.list()"
   ]
  },
  {
   "cell_type": "code",
   "execution_count": null,
   "metadata": {},
   "outputs": [],
   "source": []
  }
 ],
 "metadata": {
  "kernelspec": {
   "display_name": "Python 3",
   "language": "python",
   "name": "python3"
  },
  "language_info": {
   "codemirror_mode": {
    "name": "ipython",
    "version": 3
   },
   "file_extension": ".py",
   "mimetype": "text/x-python",
   "name": "python",
   "nbconvert_exporter": "python",
   "pygments_lexer": "ipython3",
   "version": "3.7.4"
  }
 },
 "nbformat": 4,
 "nbformat_minor": 4
}
