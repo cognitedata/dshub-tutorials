{
 "cells": [
  {
   "cell_type": "markdown",
   "metadata": {},
   "source": [
    "# Importing Modules Example\n",
    "## Introduction\n",
    "In certain situations it will be convenient to separate the functionality of a task into multiple python modules or files. In this example, we create a function which imports another module to execute its functionality. Specifically, the function squares a number by importing a tranform helper function from another python module in the same folder as the [handler.py](handler.py) main module. \n",
    "\n",
    "**Documentation**:\n",
    "We will be using the Python SDK of Cognite Functions for which the documentation can be found here:\n",
    "\n",
    "https://cognite-sdk-experimental.readthedocs-hosted.com/en/latest/cognite.html#functions"
   ]
  },
  {
   "cell_type": "markdown",
   "metadata": {},
   "source": [
    "## Setup\n",
    "We first import the experimental CogniteClient and need to pass the client an api-key, which we retrieve via `getpass`."
   ]
  },
  {
   "cell_type": "code",
   "execution_count": null,
   "metadata": {
    "scrolled": true
   },
   "outputs": [],
   "source": [
    "from getpass import getpass\n",
    "from cognite.experimental import CogniteClient\n",
    "\n",
    "api_key = getpass()\n",
    "client = CogniteClient(\n",
    "    api_key=api_key,\n",
    "    project=\"functions-tutorial\",\n",
    "    client_name=\"DSHub\",\n",
    "    base_url=\"https://greenfield.cognitedata.com\"\n",
    ")"
   ]
  },
  {
   "cell_type": "markdown",
   "metadata": {},
   "source": [
    "## Defining our function"
   ]
  },
  {
   "cell_type": "markdown",
   "metadata": {},
   "source": [
    "In this example we define a function in two python modules, a [handler.py](handler.py) which contains the main `handle` function, which always needs to be present when defining a new function, and a [helper.py](helper.py) module. The latter module is called by the former to show how module dependencies can be used. The helper module is imported in the handler by writing `import helper` which we can do because it's contained in the same folder as the [handler.py](handler.py) module.\n",
    "\n",
    "Note that in [handler.py](handler.py), the function `handle` must have as arguments a subset of `(client, data, secrets)`. In this example we only need `data`. The data we give when calling the function, is passed through the `data` argument. "
   ]
  },
  {
   "cell_type": "markdown",
   "metadata": {},
   "source": [
    "## Testing the function locally\n",
    "Before we actually deploy the function to CDF, we can test it locally. First take a look at the two files [handler.py](handler.py) and [helper.py](helper.py), before you test the code."
   ]
  },
  {
   "cell_type": "code",
   "execution_count": 15,
   "metadata": {},
   "outputs": [
    {
     "data": {
      "text/plain": [
       "{'squaredValue': 4.0}"
      ]
     },
     "execution_count": 15,
     "metadata": {},
     "output_type": "execute_result"
    }
   ],
   "source": [
    "import handler\n",
    "handler.handle(data={\"value\": 2.0})"
   ]
  },
  {
   "cell_type": "markdown",
   "metadata": {},
   "source": [
    "## Deploying the function to CDF\n",
    "Next we deploy our function to CDF, by setting the argument `folder` to the relevant folder. At least one of the files in the folder must be named `handler.py`, and this file must have a function named `handle`, which is the function that will be executed in CDF."
   ]
  },
  {
   "cell_type": "markdown",
   "metadata": {},
   "source": [
    "First let's create a unique string as a function external id (e.g. your own name if it's unique to cognite)"
   ]
  },
  {
   "cell_type": "code",
   "execution_count": 16,
   "metadata": {
    "scrolled": true
   },
   "outputs": [],
   "source": [
    "my_name =  # put your name as string here\n",
    "external_id = f\"my-transformer-{my_name}\""
   ]
  },
  {
   "cell_type": "code",
   "execution_count": null,
   "metadata": {
    "scrolled": true
   },
   "outputs": [],
   "source": [
    "function = client.functions.create(\n",
    "    name=external_id, # We just use external id as name so it is easier to find in Data Studio UI\n",
    "    external_id=external_id,\n",
    "    folder='.', # We will upload this directory\n",
    "    description=\"Square an input value\", \n",
    "    owner=\"kir@aker.com\")"
   ]
  },
  {
   "cell_type": "markdown",
   "metadata": {},
   "source": [
    "Next we can retrieve the function to see its status. It will start out as `Queued` and then go to `Deploying`. After a couple of minutes, the status will be `Ready`, and you can start to call your function. **NB:** All calls to the function before the function is `Ready` will fail."
   ]
  },
  {
   "cell_type": "code",
   "execution_count": 25,
   "metadata": {
    "scrolled": true
   },
   "outputs": [
    {
     "data": {
      "text/html": [
       "<div>\n",
       "<style scoped>\n",
       "    .dataframe tbody tr th:only-of-type {\n",
       "        vertical-align: middle;\n",
       "    }\n",
       "\n",
       "    .dataframe tbody tr th {\n",
       "        vertical-align: top;\n",
       "    }\n",
       "\n",
       "    .dataframe thead th {\n",
       "        text-align: right;\n",
       "    }\n",
       "</style>\n",
       "<table border=\"1\" class=\"dataframe\">\n",
       "  <thead>\n",
       "    <tr style=\"text-align: right;\">\n",
       "      <th></th>\n",
       "      <th>value</th>\n",
       "    </tr>\n",
       "  </thead>\n",
       "  <tbody>\n",
       "    <tr>\n",
       "      <th>id</th>\n",
       "      <td>6212175419580573</td>\n",
       "    </tr>\n",
       "    <tr>\n",
       "      <th>name</th>\n",
       "      <td>my-transformer1-matz</td>\n",
       "    </tr>\n",
       "    <tr>\n",
       "      <th>external_id</th>\n",
       "      <td>my-transformer-matz</td>\n",
       "    </tr>\n",
       "    <tr>\n",
       "      <th>description</th>\n",
       "      <td>Square an input value</td>\n",
       "    </tr>\n",
       "    <tr>\n",
       "      <th>owner</th>\n",
       "      <td>kir@aker.com</td>\n",
       "    </tr>\n",
       "    <tr>\n",
       "      <th>status</th>\n",
       "      <td>Deploying</td>\n",
       "    </tr>\n",
       "    <tr>\n",
       "      <th>file_id</th>\n",
       "      <td>8824212893525736</td>\n",
       "    </tr>\n",
       "    <tr>\n",
       "      <th>created_time</th>\n",
       "      <td>1591625126703</td>\n",
       "    </tr>\n",
       "    <tr>\n",
       "      <th>secrets</th>\n",
       "      <td>{}</td>\n",
       "    </tr>\n",
       "  </tbody>\n",
       "</table>\n",
       "</div>"
      ],
      "text/plain": [
       "<cognite.experimental.data_classes.functions.Function at 0x7f8257a62710>"
      ]
     },
     "execution_count": 25,
     "metadata": {},
     "output_type": "execute_result"
    }
   ],
   "source": [
    "# Repeat until status is ready\n",
    "function = client.functions.retrieve(external_id=external_id)\n",
    "function"
   ]
  },
  {
   "cell_type": "markdown",
   "metadata": {},
   "source": [
    "When the function is `Ready`, we can call it directly on the function object."
   ]
  },
  {
   "cell_type": "code",
   "execution_count": 13,
   "metadata": {
    "scrolled": true
   },
   "outputs": [
    {
     "data": {
      "text/html": [
       "<div>\n",
       "<style scoped>\n",
       "    .dataframe tbody tr th:only-of-type {\n",
       "        vertical-align: middle;\n",
       "    }\n",
       "\n",
       "    .dataframe tbody tr th {\n",
       "        vertical-align: top;\n",
       "    }\n",
       "\n",
       "    .dataframe thead th {\n",
       "        text-align: right;\n",
       "    }\n",
       "</style>\n",
       "<table border=\"1\" class=\"dataframe\">\n",
       "  <thead>\n",
       "    <tr style=\"text-align: right;\">\n",
       "      <th></th>\n",
       "      <th>value</th>\n",
       "    </tr>\n",
       "  </thead>\n",
       "  <tbody>\n",
       "    <tr>\n",
       "      <th>id</th>\n",
       "      <td>6611708727841028</td>\n",
       "    </tr>\n",
       "    <tr>\n",
       "      <th>start_time</th>\n",
       "      <td>1591625039872</td>\n",
       "    </tr>\n",
       "    <tr>\n",
       "      <th>end_time</th>\n",
       "      <td>1591625040459</td>\n",
       "    </tr>\n",
       "    <tr>\n",
       "      <th>status</th>\n",
       "      <td>Failed</td>\n",
       "    </tr>\n",
       "    <tr>\n",
       "      <th>function_id</th>\n",
       "      <td>5627569932734533</td>\n",
       "    </tr>\n",
       "  </tbody>\n",
       "</table>\n",
       "</div>"
      ],
      "text/plain": [
       "<cognite.experimental.data_classes.functions.FunctionCall at 0x7f8257a47a10>"
      ]
     },
     "execution_count": 13,
     "metadata": {},
     "output_type": "execute_result"
    }
   ],
   "source": [
    "call1 = function.call(data={\"value\": 2})\n",
    "call1"
   ]
  },
  {
   "cell_type": "markdown",
   "metadata": {},
   "source": [
    "Note that the above calls are to the function in CDF, not the local function.\n",
    "\n",
    "To retrieve the response from the function, simply invoke the `get_response()` method on the call object:"
   ]
  },
  {
   "cell_type": "code",
   "execution_count": 12,
   "metadata": {},
   "outputs": [
    {
     "data": {
      "text/html": [
       "<div>\n",
       "<style scoped>\n",
       "    .dataframe tbody tr th:only-of-type {\n",
       "        vertical-align: middle;\n",
       "    }\n",
       "\n",
       "    .dataframe tbody tr th {\n",
       "        vertical-align: top;\n",
       "    }\n",
       "\n",
       "    .dataframe thead th {\n",
       "        text-align: right;\n",
       "    }\n",
       "</style>\n",
       "<table border=\"1\" class=\"dataframe\">\n",
       "  <thead>\n",
       "    <tr style=\"text-align: right;\">\n",
       "      <th></th>\n",
       "      <th>value</th>\n",
       "    </tr>\n",
       "  </thead>\n",
       "  <tbody>\n",
       "    <tr>\n",
       "      <th>call_id</th>\n",
       "      <td>6531897041926759</td>\n",
       "    </tr>\n",
       "    <tr>\n",
       "      <th>function_id</th>\n",
       "      <td>5627569932734533</td>\n",
       "    </tr>\n",
       "  </tbody>\n",
       "</table>\n",
       "</div>"
      ],
      "text/plain": [
       "<cognite.experimental.data_classes.functions.FunctionCallResponse at 0x7f8257a41dd0>"
      ]
     },
     "execution_count": 12,
     "metadata": {},
     "output_type": "execute_result"
    }
   ],
   "source": [
    "response = call1.get_response()\n",
    "response"
   ]
  },
  {
   "cell_type": "markdown",
   "metadata": {},
   "source": [
    "## Handling failures\n",
    "If you get a failure you can look at the logs"
   ]
  },
  {
   "cell_type": "code",
   "execution_count": null,
   "metadata": {},
   "outputs": [],
   "source": [
    "call_bad = function.call(data={\"foo\": 2})\n",
    "call_bad"
   ]
  },
  {
   "cell_type": "code",
   "execution_count": null,
   "metadata": {},
   "outputs": [],
   "source": [
    "call_bad.get_logs()"
   ]
  },
  {
   "cell_type": "code",
   "execution_count": null,
   "metadata": {},
   "outputs": [],
   "source": [
    "call_bad.get_logs()[-2:] # Here we see the error"
   ]
  },
  {
   "cell_type": "markdown",
   "metadata": {},
   "source": [
    "### Schedules"
   ]
  },
  {
   "cell_type": "markdown",
   "metadata": {},
   "source": [
    "Schedules are objects that make the functions run at pre-defined intervals. For example, we can run a function every Monday at 7am or every other friday, etc. A schedule is defined with an associated function's external id and some input data. The interval syntax we use is called unix cron syntax, which is a string that contains the necessary information to decode a wide variaty of running intervals. More information about cron syntax can be found here: https://crontab.guru.\n",
    "\n",
    "Below is an example of a schedule that runs every minute on our defined function. Note that we can define multiple schedules on each function, each one with different input data."
   ]
  },
  {
   "cell_type": "code",
   "execution_count": null,
   "metadata": {},
   "outputs": [],
   "source": [
    "schedule = client.functions.schedules.create(\n",
    "    name=f\"Schedule 1\", \n",
    "    cron_expression=\"* * * * *\", \n",
    "    function_external_id=external_id,\n",
    "    data={\"value\": 2})\n",
    "schedule"
   ]
  },
  {
   "cell_type": "markdown",
   "metadata": {},
   "source": [
    "## List calls\n",
    "We can list all calls that have been made to the function:"
   ]
  },
  {
   "cell_type": "code",
   "execution_count": null,
   "metadata": {
    "scrolled": true
   },
   "outputs": [],
   "source": [
    "calls = function.list_calls()\n",
    "calls"
   ]
  },
  {
   "cell_type": "code",
   "execution_count": null,
   "metadata": {},
   "outputs": [],
   "source": [
    "calls[-1].get_response()"
   ]
  },
  {
   "cell_type": "markdown",
   "metadata": {},
   "source": [
    "## Cleanup\n",
    "Finally, we clean after ourselves by deleting our time series and function."
   ]
  },
  {
   "cell_type": "code",
   "execution_count": null,
   "metadata": {},
   "outputs": [],
   "source": [
    "client.functions.schedules.delete(id=schedule.id)"
   ]
  },
  {
   "cell_type": "code",
   "execution_count": 19,
   "metadata": {},
   "outputs": [],
   "source": [
    "client.functions.delete(external_id=external_id)"
   ]
  },
  {
   "cell_type": "code",
   "execution_count": 20,
   "metadata": {},
   "outputs": [
    {
     "data": {
      "text/html": [
       "<div>\n",
       "<style scoped>\n",
       "    .dataframe tbody tr th:only-of-type {\n",
       "        vertical-align: middle;\n",
       "    }\n",
       "\n",
       "    .dataframe tbody tr th {\n",
       "        vertical-align: top;\n",
       "    }\n",
       "\n",
       "    .dataframe thead th {\n",
       "        text-align: right;\n",
       "    }\n",
       "</style>\n",
       "<table border=\"1\" class=\"dataframe\">\n",
       "  <thead>\n",
       "    <tr style=\"text-align: right;\">\n",
       "      <th></th>\n",
       "      <th>id</th>\n",
       "      <th>name</th>\n",
       "      <th>external_id</th>\n",
       "      <th>description</th>\n",
       "      <th>owner</th>\n",
       "      <th>status</th>\n",
       "      <th>file_id</th>\n",
       "      <th>created_time</th>\n",
       "      <th>api_key</th>\n",
       "      <th>secrets</th>\n",
       "    </tr>\n",
       "  </thead>\n",
       "  <tbody>\n",
       "    <tr>\n",
       "      <th>0</th>\n",
       "      <td>5386951910144136</td>\n",
       "      <td>resetts</td>\n",
       "      <td>pip</td>\n",
       "      <td></td>\n",
       "      <td></td>\n",
       "      <td>Ready</td>\n",
       "      <td>2201851008184754</td>\n",
       "      <td>1587068142323</td>\n",
       "      <td>***</td>\n",
       "      <td>{}</td>\n",
       "    </tr>\n",
       "    <tr>\n",
       "      <th>1</th>\n",
       "      <td>5647081140368399</td>\n",
       "      <td>pnidgrep</td>\n",
       "      <td>pnidgrep</td>\n",
       "      <td></td>\n",
       "      <td></td>\n",
       "      <td>Ready</td>\n",
       "      <td>6557290470541809</td>\n",
       "      <td>1589970924980</td>\n",
       "      <td>***</td>\n",
       "      <td>{}</td>\n",
       "    </tr>\n",
       "    <tr>\n",
       "      <th>2</th>\n",
       "      <td>8914562954604793</td>\n",
       "      <td>Benchmark</td>\n",
       "      <td>benchmark</td>\n",
       "      <td></td>\n",
       "      <td></td>\n",
       "      <td>Ready</td>\n",
       "      <td>3929529329586323</td>\n",
       "      <td>1590484953639</td>\n",
       "      <td>***</td>\n",
       "      <td>{}</td>\n",
       "    </tr>\n",
       "    <tr>\n",
       "      <th>3</th>\n",
       "      <td>2941578113101558</td>\n",
       "      <td>Benchmark2</td>\n",
       "      <td>benchmark2</td>\n",
       "      <td></td>\n",
       "      <td></td>\n",
       "      <td>Ready</td>\n",
       "      <td>5411651768501809</td>\n",
       "      <td>1590486464678</td>\n",
       "      <td>***</td>\n",
       "      <td>{}</td>\n",
       "    </tr>\n",
       "    <tr>\n",
       "      <th>4</th>\n",
       "      <td>6315732238722869</td>\n",
       "      <td>Pressure transmitter label populator</td>\n",
       "      <td>skarv-pressure-transmitter-populator</td>\n",
       "      <td></td>\n",
       "      <td></td>\n",
       "      <td>Ready</td>\n",
       "      <td>159915832879435</td>\n",
       "      <td>1590682877533</td>\n",
       "      <td>***</td>\n",
       "      <td>{}</td>\n",
       "    </tr>\n",
       "    <tr>\n",
       "      <th>5</th>\n",
       "      <td>7711761186104021</td>\n",
       "      <td>My test function</td>\n",
       "      <td>my-test-function</td>\n",
       "      <td></td>\n",
       "      <td></td>\n",
       "      <td>Ready</td>\n",
       "      <td>3211483143686469</td>\n",
       "      <td>1590739598453</td>\n",
       "      <td>***</td>\n",
       "      <td>{}</td>\n",
       "    </tr>\n",
       "    <tr>\n",
       "      <th>6</th>\n",
       "      <td>6754065718813446</td>\n",
       "      <td>myfunction5</td>\n",
       "      <td>myfunction5</td>\n",
       "      <td></td>\n",
       "      <td></td>\n",
       "      <td>Ready</td>\n",
       "      <td>77548446317650</td>\n",
       "      <td>1590739917190</td>\n",
       "      <td>***</td>\n",
       "      <td>{}</td>\n",
       "    </tr>\n",
       "    <tr>\n",
       "      <th>7</th>\n",
       "      <td>4729961513260583</td>\n",
       "      <td>schemacompletion</td>\n",
       "      <td>schemacompletion</td>\n",
       "      <td></td>\n",
       "      <td></td>\n",
       "      <td>Ready</td>\n",
       "      <td>5799174992999612</td>\n",
       "      <td>1591274712607</td>\n",
       "      <td>***</td>\n",
       "      <td>{}</td>\n",
       "    </tr>\n",
       "    <tr>\n",
       "      <th>8</th>\n",
       "      <td>8430800965471143</td>\n",
       "      <td>my-monitor</td>\n",
       "      <td>my-monitor</td>\n",
       "      <td>testing alarm</td>\n",
       "      <td>some.body@company.com</td>\n",
       "      <td>Ready</td>\n",
       "      <td>4911658493382478</td>\n",
       "      <td>1591349182431</td>\n",
       "      <td>***</td>\n",
       "      <td>{}</td>\n",
       "    </tr>\n",
       "    <tr>\n",
       "      <th>9</th>\n",
       "      <td>141967690790784</td>\n",
       "      <td>returns-54</td>\n",
       "      <td>NaN</td>\n",
       "      <td></td>\n",
       "      <td></td>\n",
       "      <td>Ready</td>\n",
       "      <td>1371816579425574</td>\n",
       "      <td>1591616467606</td>\n",
       "      <td>NaN</td>\n",
       "      <td>{}</td>\n",
       "    </tr>\n",
       "  </tbody>\n",
       "</table>\n",
       "</div>"
      ],
      "text/plain": [
       "[<cognite.experimental.data_classes.functions.Function object at 0x7f8257a6d710>, <cognite.experimental.data_classes.functions.Function object at 0x7f8257a6d8d0>, <cognite.experimental.data_classes.functions.Function object at 0x7f8257a6d550>, <cognite.experimental.data_classes.functions.Function object at 0x7f8257a6d250>, <cognite.experimental.data_classes.functions.Function object at 0x7f8257a6d150>, <cognite.experimental.data_classes.functions.Function object at 0x7f8257a6d0d0>, <cognite.experimental.data_classes.functions.Function object at 0x7f8257a6d050>, <cognite.experimental.data_classes.functions.Function object at 0x7f8257a6d090>, <cognite.experimental.data_classes.functions.Function object at 0x7f8257a6d110>, <cognite.experimental.data_classes.functions.Function object at 0x7f8257a6d190>]"
      ]
     },
     "execution_count": 20,
     "metadata": {},
     "output_type": "execute_result"
    }
   ],
   "source": [
    "client.functions.list()"
   ]
  },
  {
   "cell_type": "code",
   "execution_count": null,
   "metadata": {},
   "outputs": [],
   "source": []
  }
 ],
 "metadata": {
  "kernelspec": {
   "display_name": "Python 3",
   "language": "python",
   "name": "python3"
  },
  "language_info": {
   "codemirror_mode": {
    "name": "ipython",
    "version": 3
   },
   "file_extension": ".py",
   "mimetype": "text/x-python",
   "name": "python",
   "nbconvert_exporter": "python",
   "pygments_lexer": "ipython3",
   "version": "3.7.4"
  }
 },
 "nbformat": 4,
 "nbformat_minor": 4
}
