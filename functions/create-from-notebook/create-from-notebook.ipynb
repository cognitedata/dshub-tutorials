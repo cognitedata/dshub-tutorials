{
 "cells": [
  {
   "cell_type": "markdown",
   "metadata": {},
   "source": [
    "# Create from Notebook Example\n",
    "## Introduction\n",
    "In this example, we show the absolute fastest way to get a function up and running in CDF. We do this by defining the function in the notebook itself, and when creating the function in CDF, we simply point to our function definition.\n",
    "\n",
    "**Documentation**:\n",
    "We will be using the Python SDK of Cognite Functions for which the documentation can be found here:\n",
    "\n",
    "https://cognite-sdk-experimental.readthedocs-hosted.com/en/latest/cognite.html#functions"
   ]
  },
  {
   "cell_type": "markdown",
   "metadata": {},
   "source": [
    "## Setup\n",
    "We first import the experimental CogniteClient and instantiate it with an API-key, which we retrieve via `getpass`."
   ]
  },
  {
   "cell_type": "code",
   "execution_count": null,
   "metadata": {},
   "outputs": [],
   "source": [
    "from getpass import getpass\n",
    "from cognite.experimental import CogniteClient\n",
    "\n",
    "project= # Fill in your project here\n",
    "base_url= # Fill in your base url here\n",
    "\n",
    "api_key = getpass()\n",
    "client = CogniteClient(\n",
    "    api_key=api_key,\n",
    "    project=project,\n",
    "    client_name=\"DSHub\",\n",
    "    base_url=base_url\n",
    ")"
   ]
  },
  {
   "cell_type": "markdown",
   "metadata": {},
   "source": [
    "## Defining our function\n",
    "Next we define the function we wish to deploy. In this example, we simply list the assets and return the name of one the assets."
   ]
  },
  {
   "cell_type": "code",
   "execution_count": null,
   "metadata": {},
   "outputs": [],
   "source": [
    "def handle(client, data):\n",
    "    asset_no = data[\"assetNo\"]\n",
    "    assets = client.assets.list()\n",
    "    print(assets[asset_no].name)\n",
    "    return {\n",
    "        \"assetName\": assets[asset_no].name\n",
    "    }"
   ]
  },
  {
   "cell_type": "markdown",
   "metadata": {},
   "source": [
    "The function must be named `handle`, and arguments to handle must be a subset of `(client, data, secrets)`. These arguments serve the following purpose:\n",
    "* `client` is a pre-instantiated `CogniteClient` which is automatically available inside our function call-time, provided the function was created with an API-key, which we do below.\n",
    "* `data` is any data you send to your function. In this case we will send in a dictionary on the form `data = {\"assetNo\": 1}`. Note that `data` must be json serializable.\n",
    "* `secrets` is a dictionary of key/value pairs which serves as a way to send sensitive information to your function. We don't use secrets in this particular example."
   ]
  },
  {
   "cell_type": "markdown",
   "metadata": {},
   "source": [
    "## Deploying the function to CDF\n",
    "Next we deploy the function to CDF. We do this by setting the argument `function_handle` equal to `handle`, the function we defined above. Additionally, we give it a name, an external id and an API-key. The API-key is necessary, since we will get a `CogniteClient` inside our function, which will be instantiated with this key. If your function doesn't need a client, you don't need to provide an API-key when creating it."
   ]
  },
  {
   "cell_type": "code",
   "execution_count": null,
   "metadata": {},
   "outputs": [],
   "source": [
    "name = # Fill in a unique name here\n",
    "external_id = name\n",
    "function = client.functions.create(\n",
    "    name=name, \n",
    "    external_id=external_id, \n",
    "    function_handle=handle, \n",
    "    api_key=api_key\n",
    ")"
   ]
  },
  {
   "cell_type": "markdown",
   "metadata": {},
   "source": [
    "The function will start out with status `Queued`, then `Deploying` and finally `Ready`. This typically takes about 3-5 mihutes. To get the latest function status, run `function.update()`. **NB**: All calls to the function before it's `Ready` will fail."
   ]
  },
  {
   "cell_type": "code",
   "execution_count": null,
   "metadata": {},
   "outputs": [],
   "source": [
    "# Repeat this cell until status is Ready\n",
    "function.update()\n",
    "function.status"
   ]
  },
  {
   "cell_type": "markdown",
   "metadata": {},
   "source": [
    "## Calling the function\n",
    "We can call the function directly from the `function` object as follows"
   ]
  },
  {
   "cell_type": "code",
   "execution_count": null,
   "metadata": {},
   "outputs": [],
   "source": [
    "call = function.call(data={\"assetNo\": 1})\n",
    "call"
   ]
  },
  {
   "cell_type": "markdown",
   "metadata": {},
   "source": [
    "The call object contains metadata about the call, but not the response itself. To retrieve the response, we do"
   ]
  },
  {
   "cell_type": "code",
   "execution_count": null,
   "metadata": {},
   "outputs": [],
   "source": [
    "call.get_response()"
   ]
  },
  {
   "cell_type": "markdown",
   "metadata": {},
   "source": [
    "Similarly, you can get the logs by"
   ]
  },
  {
   "cell_type": "code",
   "execution_count": null,
   "metadata": {},
   "outputs": [],
   "source": [
    "call.get_logs()"
   ]
  },
  {
   "cell_type": "markdown",
   "metadata": {},
   "source": [
    "All print statements will turn up in the logs, or if an exception is raised, the traceback will appear."
   ]
  },
  {
   "cell_type": "markdown",
   "metadata": {},
   "source": [
    "## Cleanup\n",
    "Finally, we clean up after ourselves by deleting the function."
   ]
  },
  {
   "cell_type": "code",
   "execution_count": null,
   "metadata": {},
   "outputs": [],
   "source": [
    "client.functions.delete(id=function.id)"
   ]
  }
 ],
 "metadata": {
  "kernelspec": {
   "display_name": "Python 3",
   "language": "python",
   "name": "python3"
  },
  "language_info": {
   "codemirror_mode": {
    "name": "ipython",
    "version": 3
   },
   "file_extension": ".py",
   "mimetype": "text/x-python",
   "name": "python",
   "nbconvert_exporter": "python",
   "pygments_lexer": "ipython3",
   "version": "3.7.3"
  }
 },
 "nbformat": 4,
 "nbformat_minor": 2
}
