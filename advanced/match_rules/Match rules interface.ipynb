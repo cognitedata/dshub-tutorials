{
 "cells": [
  {
   "cell_type": "markdown",
   "metadata": {},
   "source": [
    "# Match rules interface\n",
    "\n",
    "This notebook demonstrates match rules.\n",
    "\n",
    "Rules can be imported, or suggested from manual matches, model matches or cdf matches. A jupyter interface assists in adding new rules, and assessing if the rules are good or should be deleted. Any two of the matches produced by the rules and the imported lists of matches can be compared."
   ]
  },
  {
   "cell_type": "markdown",
   "metadata": {},
   "source": [
    "## Rule helper\n",
    "We begin by initializing a `MatchRuleHelper`, which assists us in matching timeseries to assets and creating rules from the matches"
   ]
  },
  {
   "cell_type": "code",
   "execution_count": null,
   "metadata": {},
   "outputs": [],
   "source": [
    "import json\n",
    "from match_rule_helper import MatchRuleHelper\n",
    "rule_helper = MatchRuleHelper(project = \"contextualization\")\n",
    "#rule_helper = MatchRuleHelper.from_json(json.load(open(\"saved.json\", \"r\")))"
   ]
  },
  {
   "cell_type": "markdown",
   "metadata": {},
   "source": [
    "## Select the root asset \n",
    "Run the cell below to select a root asset. This allows selecting sources and targets by running rule_helper.set_helper_resources(). Otherwise use set_sources/targets."
   ]
  },
  {
   "cell_type": "code",
   "execution_count": null,
   "metadata": {},
   "outputs": [],
   "source": [
    "rule_helper.resource_helper.select_root_asset()"
   ]
  },
  {
   "cell_type": "markdown",
   "metadata": {},
   "source": [
    "## Define on which basis to find matches\n",
    "We first find all timeseries and assets under the selected root. \n",
    "Subsequently, we define which fields we want to take into account when matching (*source*) to asset (*target*)"
   ]
  },
  {
   "cell_type": "code",
   "execution_count": null,
   "metadata": {},
   "outputs": [],
   "source": [
    "# Use selected root asset to select all timeseries and assets under that root\n",
    "rule_helper.set_helper_resources()\n",
    "\n",
    "# Alternatively uncomment below and supply the sources \n",
    "#rule_helper.set_sources() # Takes list of dict entities representing sources\n",
    "#rule_helper.set_targets() # Takes list of dict entities representing targets\n",
    "\n",
    "# Set what fields apart from id that will be taken into account in rules and displaying the entities\n",
    "rule_helper.set_source_fields([\"name\"])\n",
    "rule_helper.set_target_fields([\"name\"])"
   ]
  },
  {
   "cell_type": "markdown",
   "metadata": {},
   "source": [
    "## Match according to existing rules\n",
    "If the *sources* have `asset_ids`, they are used to create a list of matches according to rules that are already present in CDF."
   ]
  },
  {
   "cell_type": "code",
   "execution_count": null,
   "metadata": {},
   "outputs": [],
   "source": [
    "rule_helper.add_cdf_matches()"
   ]
  },
  {
   "cell_type": "markdown",
   "metadata": {},
   "source": [
    "## Find a list of new matches using a model\n",
    "Run the cell below to add a list of matches to the helper from an unsupervised EM model. The list of matches can be used to generate rules later.\n",
    "\n",
    "At first a model is selected and tries to fit the `reduced_sources` in the rule helper to the `reduced_targets`. Subsequently, we can filter the results according to a score threshold. \n",
    "Finally, we register these filtered matches as a new match set with the name `\"model_matches\"` in the rule helper  for further processing."
   ]
  },
  {
   "cell_type": "code",
   "execution_count": null,
   "metadata": {},
   "outputs": [],
   "source": [
    "# Create the unsupervised model and fit sources to targets\n",
    "model = rule_helper.client.entity_matching.fit(rule_helper.reduced_sources, rule_helper.reduced_targets)\n",
    "# Predict matches\n",
    "model_matches = model.predict().result\n",
    "threshold = 0.6\n",
    "\n",
    "# Reformat the EM matches to a format that the rule helper accepts.\n",
    "# Also filter by the score threshold\n",
    "filtered_matches = [\n",
    "    {\"source\": matches[\"source\"], **match} for matches in model_matches[\"items\"] \n",
    "    for match in matches[\"matches\"] if match[\"score\"] > threshold\n",
    "]\n",
    "# Add the filtered matches to a new match set with the name \"model_matches\"\n",
    "rule_helper.add_match_set(\"model_matches\", filtered_matches)"
   ]
  },
  {
   "cell_type": "code",
   "execution_count": null,
   "metadata": {},
   "outputs": [],
   "source": [
    "# Match lists can be added on different formats:\n",
    "\n",
    "format_1 = [(2257052857986, 3785195619230089), (2415984517454, 1820151336672073)]\n",
    "format_2 = [\n",
    "    {\"sourceId\": 2257052857986, \"targetId\": 3785195619230089}, \n",
    "    {\"sourceId\": 2415984517454, \"targetId\": 1820151336672073}\n",
    "]\n",
    "format_3 = [\n",
    "    {\"source\": {\"id\": 2257052857986}, \"target\": {\"id\": 3785195619230089}},\n",
    "    {\"source\": {\"id\": 2415984517454}, \"target\": {\"id\": 1820151336672073}},\n",
    "]\n",
    "\n",
    "#rule_helper.add_match_set(\"two_matches\", format_1)"
   ]
  },
  {
   "cell_type": "markdown",
   "metadata": {},
   "source": [
    "## Editing the list of matches\n",
    "Running the cell below opens a user interface for editing lists of matches. These lists can be used to generate rules that are added to the rule set, and they can be compared to the matches that the rule set produce.\n",
    "\n",
    "There is a default empty list of matches, and possibly other lists if `rule_helper.add_match_set()` has been called. The list can be changed by selecting \"user match list\".\n",
    "\n",
    "Select a source and a target and click \"Add match\" to add it to the active list. Select a match and click \"Remove match\" in order to remove a match. The entities and matches are represented by the selected fields. E.g. if source field and target field are both \"name\", a match will display as a tuple (source name, target name). \n",
    "\n",
    "Use substring search to filter sources and targets. The source, target and matches dropdown are limited to the first 100 results."
   ]
  },
  {
   "cell_type": "markdown",
   "metadata": {},
   "source": [
    "### TODO \n",
    "Finding matches can sometimes be slow. It is hard to debug as the task id is not shown. We should add the task_id close to the *Status* field."
   ]
  },
  {
   "cell_type": "code",
   "execution_count": null,
   "metadata": {
    "scrolled": true
   },
   "outputs": [],
   "source": [
    "rule_helper.edit_user_matches()\n"
   ]
  },
  {
   "cell_type": "markdown",
   "metadata": {},
   "source": [
    "Running the cell below starts an interface that enables generating new rules from one of the lists, inspecting rules, and deleting or confirming rules. A status field shows if the rule set is running a job or is ready for suggesting more rules."
   ]
  },
  {
   "cell_type": "markdown",
   "metadata": {},
   "source": [
    "### TODO \n",
    "See above, deleting rules can also be slow. As it is hard to debug, we should add the task_id close to the *Status* field"
   ]
  },
  {
   "cell_type": "code",
   "execution_count": null,
   "metadata": {},
   "outputs": [],
   "source": [
    "rule_helper.edit_rules()"
   ]
  },
  {
   "cell_type": "markdown",
   "metadata": {},
   "source": [
    "Compare matches, either between the added match lists or between a match list and the matches produced by the rules."
   ]
  },
  {
   "cell_type": "code",
   "execution_count": null,
   "metadata": {},
   "outputs": [],
   "source": [
    "rule_helper.compare()\n"
   ]
  },
  {
   "cell_type": "code",
   "execution_count": null,
   "metadata": {},
   "outputs": [],
   "source": [
    "# Access list of rules for exporting and using elsewhere. \n",
    "# Deleted rules will be present if not apply changes has been run\n",
    "rule_helper.rule_editor.rules\n"
   ]
  },
  {
   "cell_type": "code",
   "execution_count": null,
   "metadata": {},
   "outputs": [],
   "source": [
    "# Import rules to the rule_helper\n",
    "rule_helper.rule_editor.add_rules([])"
   ]
  },
  {
   "cell_type": "code",
   "execution_count": null,
   "metadata": {},
   "outputs": [],
   "source": [
    "# Save the rule_helper, reopening it later will run apply_rules again in order to get the rule matches.\n",
    "with open(\"saved.json\", \"w\") as f:\n",
    "    f.write(json.dumps(rule_helper.to_json(), indent=2))"
   ]
  }
 ],
 "metadata": {
  "kernelspec": {
   "display_name": "Python 3 (ipykernel)",
   "language": "python",
   "name": "python3"
  },
  "language_info": {
   "codemirror_mode": {
    "name": "ipython",
    "version": 3
   },
   "file_extension": ".py",
   "mimetype": "text/x-python",
   "name": "python",
   "nbconvert_exporter": "python",
   "pygments_lexer": "ipython3",
   "version": "3.9.6"
  }
 },
 "nbformat": 4,
 "nbformat_minor": 2
}
