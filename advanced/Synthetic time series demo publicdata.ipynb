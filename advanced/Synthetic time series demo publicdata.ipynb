{
 "cells": [
  {
   "cell_type": "markdown",
   "metadata": {},
   "source": [
    "# Synthetic time series example\n",
    "\n",
    "This notebook demonstrates the synthetic time series query feature on open industrial data"
   ]
  },
  {
   "cell_type": "code",
   "execution_count": null,
   "metadata": {},
   "outputs": [],
   "source": [
    "from matplotlib import pyplot as plt\n",
    "import os\n",
    "from datetime import datetime\n",
    "from getpass import getpass\n",
    "from cognite.client import CogniteClient\n",
    "project = 'publicdata'\n",
    "api_key = os.environ.get('PUBLICDATA_API_KEY') or getpass(\"Open Industrial Data API-KEY: \")\n",
    "client = CogniteClient(project=project,api_key=api_key,client_name=\"STS demo\")"
   ]
  },
  {
   "cell_type": "markdown",
   "metadata": {},
   "source": [
    "## In this tutorial, we will develop a simple synthetic time series for anomaly detection."
   ]
  },
  {
   "cell_type": "code",
   "execution_count": null,
   "metadata": {},
   "outputs": [],
   "source": [
    "ts = client.time_series.retrieve_multiple(external_ids=[\"pi:160267\",'pi:160887'])\n",
    "ts"
   ]
  },
  {
   "cell_type": "markdown",
   "metadata": {},
   "source": [
    "## We start with a simple linear regression model"
   ]
  },
  {
   "cell_type": "code",
   "execution_count": null,
   "metadata": {},
   "outputs": [],
   "source": [
    "df = client.datapoints.retrieve_dataframe(external_id=['pi:160267','pi:160887'],\n",
    "                                  start=datetime(2019,10,1),end=datetime(2020,2,1),\n",
    "                                  aggregates=['interpolation'],granularity='10s',complete='fill,dropna')"
   ]
  },
  {
   "cell_type": "code",
   "execution_count": null,
   "metadata": {},
   "outputs": [],
   "source": [
    "from scipy import stats\n",
    "r = stats.linregress(df)\n",
    "plt.plot(df.iloc[-10000:,1])\n",
    "plt.plot(df.iloc[-10000:,0] * r.slope + r.intercept)"
   ]
  },
  {
   "cell_type": "markdown",
   "metadata": {},
   "source": [
    "## We define the formula via sympy for convenience, avoiding the API syntax"
   ]
  },
  {
   "cell_type": "code",
   "execution_count": null,
   "metadata": {},
   "outputs": [],
   "source": [
    "from sympy import symbols\n",
    "x,y = symbols(['x','y'])\n",
    "y_pred = x * r.slope + r.intercept"
   ]
  },
  {
   "cell_type": "code",
   "execution_count": null,
   "metadata": {},
   "outputs": [],
   "source": [
    "error = 100 * abs(y - y_pred) / (abs(y) + 1e-6) # relative error in %"
   ]
  },
  {
   "cell_type": "markdown",
   "metadata": {},
   "source": [
    "## let's test our query!"
   ]
  },
  {
   "cell_type": "code",
   "execution_count": null,
   "metadata": {},
   "outputs": [],
   "source": [
    "f = \"TS{externalId:'sine'} + TS{externalId:'line'}\"\n",
    "dpt = client.datapoints.synthetic.query(expressions=error,\n",
    "                                           variables={'x':ts[0],'y':ts[1]},\n",
    "                                           start=datetime(2019,10,8),end=datetime(2019,10,12))\n",
    "df = dpt.to_pandas()\n",
    "df.columns = ['error']\n",
    "df.plot()"
   ]
  },
  {
   "cell_type": "code",
   "execution_count": null,
   "metadata": {},
   "outputs": [],
   "source": [
    "## Curiously we have found a period with high error in our model on the first try!"
   ]
  }
 ],
 "metadata": {
  "kernelspec": {
   "display_name": "Python 3",
   "language": "python",
   "name": "python3"
  },
  "language_info": {
   "codemirror_mode": {
    "name": "ipython",
    "version": 3
   },
   "file_extension": ".py",
   "mimetype": "text/x-python",
   "name": "python",
   "nbconvert_exporter": "python",
   "pygments_lexer": "ipython3",
   "version": "3.8.3"
  }
 },
 "nbformat": 4,
 "nbformat_minor": 2
}
