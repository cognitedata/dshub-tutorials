{
 "cells": [
  {
   "cell_type": "markdown",
   "metadata": {},
   "source": [
    "# Comparing Entity Matching models with SDK-experimental demo\n",
    "\n",
    "This notebook uses time series and assets from the open industrial data tenant. It uses cognite-sdk-python-experimental to fit entity matcher models using different parameter combinations. The data is split into a training and test set. The models are compared using running time and the F1 score (combination of precision and recall) on the test set. To read the definition of precision and reacll see [here](https://en.wikipedia.org/wiki/Precision_and_recall). \n",
    "\n",
    "One model is chosen and the false positives (incorrect predicted matches by the model), and false negatives (matches the model were not able to find) are briefly investigated."
   ]
  },
  {
   "cell_type": "markdown",
   "metadata": {},
   "source": [
    "## Get access to CDF\n",
    "We assume you have some basic knowledge of CDF and the SDK. If not, please follow the 'lab' tutorials first.\n",
    "\n",
    "For this tutorial you need access to the publicdata project / tenant. If you don't have one, you can get an API-key [here](https://content.cognite.com/open-industrial-data)."
   ]
  },
  {
   "cell_type": "markdown",
   "metadata": {},
   "source": [
    "## Import modules\n",
    "We need to import some Python modules in order to interact with CDF. We will use the Python SDK with Experimental Extensions, which we below refer to as a client. "
   ]
  },
  {
   "cell_type": "code",
   "execution_count": 1,
   "metadata": {},
   "outputs": [],
   "source": [
    "import random\n",
    "import time\n",
    "import matplotlib.pyplot as plt\n",
    "import pandas as pd\n",
    "from cognite.client.beta import CogniteClient\n",
    "from getpass import getpass"
   ]
  },
  {
   "cell_type": "markdown",
   "metadata": {},
   "source": [
    "## Create a client\n",
    "\n",
    "When you create the CogniteClient below, getpass will ask for your API key in an extra password field. Simply paste ypu publicdata API-key and press shift+enter."
   ]
  },
  {
   "cell_type": "code",
   "execution_count": 2,
   "metadata": {},
   "outputs": [
    {
     "name": "stdout",
     "output_type": "stream",
     "text": [
      "Please enter Open Industrial Data API-KEY: ········\n"
     ]
    }
   ],
   "source": [
    "project = \"contextualization\"\n",
    "api_key = getpass(\"Please enter Open Industrial Data API-KEY: \")\n",
    "client = CogniteClient(project=project, api_key=api_key, client_name=\"dshub\")"
   ]
  },
  {
   "cell_type": "markdown",
   "metadata": {},
   "source": [
    "## Get data\n",
    "\n",
    "In this tutorial we will use time series and assets data."
   ]
  },
  {
   "cell_type": "code",
   "execution_count": 3,
   "metadata": {},
   "outputs": [],
   "source": [
    "time_series = client.time_series.list(limit=1000)"
   ]
  },
  {
   "cell_type": "markdown",
   "metadata": {},
   "source": [
    "# Split into train and test data\n",
    "\n",
    "Shuffle the time-series list randomly and use the first 60% as the training set and the rest as the test set."
   ]
  },
  {
   "cell_type": "code",
   "execution_count": 4,
   "metadata": {},
   "outputs": [],
   "source": [
    "train_size = 0.6\n",
    "num_train_samples = round(len(time_series) * train_size)"
   ]
  },
  {
   "cell_type": "code",
   "execution_count": 59,
   "metadata": {},
   "outputs": [],
   "source": [
    "random.seed(1006)\n",
    "random.shuffle(time_series)\n",
    "time_series_train = time_series[0:num_train_samples]\n",
    "time_series_test = time_series[num_train_samples:]\n",
    "\n",
    "true_matches_train = [(x.get(\"id\"), x.get(\"asset_id\")) for x in time_series_train.dump()]\n",
    "true_matches_test = [(x.get(\"id\"), x.get(\"asset_id\")) for x in time_series_test.dump()]\n",
    "\n",
    "true_matches_train = [x for x in true_matches_train if x[1]!=None]\n",
    "true_matches_test = [x for x in true_matches_test if x[1]!=None]"
   ]
  },
  {
   "cell_type": "code",
   "execution_count": 60,
   "metadata": {},
   "outputs": [],
   "source": [
    "assetsIds=list(set([x[1] for x in true_matches_train]))\n",
    "assets=client.assets.retrieve_multiple(ids=assetsIds)"
   ]
  },
  {
   "cell_type": "markdown",
   "metadata": {},
   "source": [
    "## Test different parameter combinations\n",
    "\n",
    "In this tutorial 10 parameter combinations are tested."
   ]
  },
  {
   "cell_type": "code",
   "execution_count": 76,
   "metadata": {},
   "outputs": [],
   "source": [
    "test_combs = [\n",
    "    {\n",
    "        \"name\": \"simple\",\n",
    "        \"match_fields\": [(\"name\", \"name\")],\n",
    "        \"feature_type\": \"simple\",\n",
    "        \"classifier\": \"RandomForest\",\n",
    "    },\n",
    "    {\n",
    "        \"name\": \"simple_extra_keys\",\n",
    "        \"match_fields\": [(\"name\", \"name\"), (\"description\", \"description\")],\n",
    "        \"feature_type\": \"simple\",\n",
    "        \"classifier\": \"RandomForest\",\n",
    "    },\n",
    "    {\n",
    "        \"name\": \"bigram\",\n",
    "        \"match_fields\": [(\"name\", \"name\")],\n",
    "        \"feature_type\": \"bigram\",\n",
    "        \"classifier\": \"RandomForest\",\n",
    "    },\n",
    "    {\n",
    "        \"name\": \"bigram_extra_keys\",\n",
    "        \"match_fields\": [(\"name\", \"name\"), (\"description\", \"description\")],\n",
    "        \"feature_type\": \"bigram\",\n",
    "        \"classifier\": \"RandomForest\",\n",
    "    },\n",
    "    {\n",
    "        \"name\": \"simple_all_keys\",\n",
    "        \"match_fields\": [\n",
    "            (\"name\", \"name\"),\n",
    "            (\"description\", \"description\"),\n",
    "            (\"name\", \"description\"),\n",
    "            (\"description\", \"name\"),\n",
    "        ],\n",
    "        \"feature_type\": \"simple\",\n",
    "        \"classifier\": \"RandomForest\",\n",
    "    },\n",
    "    {\n",
    "        \"name\": \"frequency_weighted_bigram\",\n",
    "        \"match_fields\": [(\"name\", \"name\")],\n",
    "        \"feature_type\": \"simple\",\n",
    "        \"classifier\": \"RandomForest\",\n",
    "    },\n",
    "    {\n",
    "        \"name\": \"frequency_weighted_bigram\",\n",
    "        \"match_fields\": [(\"name\", \"name\")],\n",
    "        \"feature_type\": \"frequency-weighted-bigram\",\n",
    "        \"classifier\": \"RandomForest\",\n",
    "    },\n",
    "    {\n",
    "        \"name\": \"bigram_extra_tokenizers\",\n",
    "        \"match_fields\": [(\"name\", \"name\")],\n",
    "        \"feature_type\": \"bigram-extra-tokenizers\",\n",
    "        \"classifier\": \"RandomForest\",\n",
    "    },\n",
    "    {\n",
    "        \"name\": \"bigram_combo\",\n",
    "        \"match_fields\": [(\"name\", \"name\")],\n",
    "        \"feature_type\": \"bigram-combo\",\n",
    "        \"classifier\": \"RandomForest\",\n",
    "    },\n",
    "    {\n",
    "        \"name\": \"unsupervised\",\n",
    "        \"match_fields\": [(\"name\", \"name\")],\n",
    "        \"feature_type\": \"bigram\",\n",
    "        \"classifier\": \"Unsupervised\",\n",
    "    },\n",
    "]"
   ]
  },
  {
   "cell_type": "code",
   "execution_count": 81,
   "metadata": {},
   "outputs": [],
   "source": [
    "def evaluate(true_matches, predicted_matches, score_threshold):\n",
    "    \"\"\" \n",
    "    Evaluate the performance of a model. \n",
    "    Find true-postives, false-negative and false-positives gien a score threshold.\n",
    "    Calculate the precision, recall and F1 score.\n",
    "    \"\"\"\n",
    "    predicted_positive_match = [\n",
    "        x\n",
    "        for x in predicted_matches\n",
    "        if x.get(\"matches\") and x[\"matches\"][0][\"score\"] > score_threshold\n",
    "    ]\n",
    "    predicted_positive_matches = [\n",
    "        (x[\"source\"][\"id\"], x[\"matches\"][0][\"target\"][\"id\"])\n",
    "        for x in predicted_positive_match\n",
    "    ]\n",
    "\n",
    "    # Calculate precision, recall and f1_beta\n",
    "    true_positives = [x for x in predicted_positive_matches if x in true_matches]\n",
    "    false_postives = [x for x in predicted_positive_matches if x not in true_matches]\n",
    "    false_negatives = [x for x in true_matches if x not in predicted_positive_matches]\n",
    "\n",
    "    precision = len(true_positives) / (len(true_positives) + len(false_postives))\n",
    "    recall = len(true_positives) / (len(true_positives) + len(false_negatives))\n",
    "\n",
    "    f1 = 2 * precision * recall / (precision + recall)\n",
    "    return (true_positives, false_postives, false_negatives, precision, recall, f1)"
   ]
  },
  {
   "cell_type": "markdown",
   "metadata": {},
   "source": [
    "Loop through all test combinations. Fit a model using the training data and predict time-series to asset matches for the test data. Use the true matches for the test data to evaluate the performance of the model.\n",
    "Store run time as the time from the model starts training until it is done predicting. "
   ]
  },
  {
   "cell_type": "code",
   "execution_count": 62,
   "metadata": {},
   "outputs": [
    {
     "data": {
      "text/html": [
       "<div>\n",
       "<style scoped>\n",
       "    .dataframe tbody tr th:only-of-type {\n",
       "        vertical-align: middle;\n",
       "    }\n",
       "\n",
       "    .dataframe tbody tr th {\n",
       "        vertical-align: top;\n",
       "    }\n",
       "\n",
       "    .dataframe thead th {\n",
       "        text-align: right;\n",
       "    }\n",
       "</style>\n",
       "<table border=\"1\" class=\"dataframe\">\n",
       "  <thead>\n",
       "    <tr style=\"text-align: right;\">\n",
       "      <th></th>\n",
       "      <th>external_id</th>\n",
       "      <th>name</th>\n",
       "      <th>parent_id</th>\n",
       "      <th>parent_external_id</th>\n",
       "      <th>description</th>\n",
       "      <th>metadata</th>\n",
       "      <th>id</th>\n",
       "      <th>created_time</th>\n",
       "      <th>last_updated_time</th>\n",
       "      <th>root_id</th>\n",
       "      <th>source</th>\n",
       "      <th>data_set_id</th>\n",
       "    </tr>\n",
       "  </thead>\n",
       "  <tbody>\n",
       "    <tr>\n",
       "      <th>0</th>\n",
       "      <td>SKA_2103084985443500</td>\n",
       "      <td>65-VI-5221</td>\n",
       "      <td>6545389140694605</td>\n",
       "      <td>SKA_1580972305457440</td>\n",
       "      <td>VIBR. PROBE FOR 65-PB-522-M01 (DE)</td>\n",
       "      <td>{'ASSETSCOPENAME': 'SKA', 'ELC_STATUS_ID': '12...</td>\n",
       "      <td>1209990986430470</td>\n",
       "      <td>1574931419384</td>\n",
       "      <td>1574931419384</td>\n",
       "      <td>4468528765940921</td>\n",
       "      <td>NaN</td>\n",
       "      <td>&lt;NA&gt;</td>\n",
       "    </tr>\n",
       "    <tr>\n",
       "      <th>1</th>\n",
       "      <td>ALV_06B/10</td>\n",
       "      <td>06B/10</td>\n",
       "      <td>4758843894792907</td>\n",
       "      <td>ALV_06-CABLES</td>\n",
       "      <td>CABLE</td>\n",
       "      <td>{'AVEVA_status': 'Active', 'Platform': 'ALV', ...</td>\n",
       "      <td>4337506750939154</td>\n",
       "      <td>1574165306338</td>\n",
       "      <td>1574165306338</td>\n",
       "      <td>1242837143139220</td>\n",
       "      <td>ALV</td>\n",
       "      <td>&lt;NA&gt;</td>\n",
       "    </tr>\n",
       "    <tr>\n",
       "      <th>2</th>\n",
       "      <td>SKA_3484482042724348</td>\n",
       "      <td>97-GK-503A</td>\n",
       "      <td>3041439621245214</td>\n",
       "      <td>SKA_2970963999089568</td>\n",
       "      <td>CENTRIFUGAL FAN EXTRACT FROM GALLEY</td>\n",
       "      <td>{'ASSETSCOPENAME': 'SKA', 'ELC_STATUS_ID': '12...</td>\n",
       "      <td>6038045406484507</td>\n",
       "      <td>1574931380793</td>\n",
       "      <td>1574931380793</td>\n",
       "      <td>4468528765940921</td>\n",
       "      <td>NaN</td>\n",
       "      <td>&lt;NA&gt;</td>\n",
       "    </tr>\n",
       "    <tr>\n",
       "      <th>3</th>\n",
       "      <td>SKA_102360099375134</td>\n",
       "      <td>39-XV-5115</td>\n",
       "      <td>5750606207902084</td>\n",
       "      <td>SKA_4392077141880216</td>\n",
       "      <td>NO 3 COT (P) CO WASHING HDR ISO PSD VLV</td>\n",
       "      <td>{'ASSETSCOPENAME': 'SKA', 'ELC_STATUS_ID': '12...</td>\n",
       "      <td>8174571818559521</td>\n",
       "      <td>1574931410165</td>\n",
       "      <td>1574931410165</td>\n",
       "      <td>4468528765940921</td>\n",
       "      <td>NaN</td>\n",
       "      <td>&lt;NA&gt;</td>\n",
       "    </tr>\n",
       "    <tr>\n",
       "      <th>4</th>\n",
       "      <td>ALV_70AB10110038</td>\n",
       "      <td>70AB10110038</td>\n",
       "      <td>218286261861503</td>\n",
       "      <td>ALV_11690937</td>\n",
       "      <td>UPPER PROCESS DECK GAS DETECTOR TP30</td>\n",
       "      <td>{'AVEVA_status': 'Active', 'Platform': 'ALV', ...</td>\n",
       "      <td>8997822500354083</td>\n",
       "      <td>1574165362992</td>\n",
       "      <td>1574165362992</td>\n",
       "      <td>1242837143139220</td>\n",
       "      <td>ALV</td>\n",
       "      <td>&lt;NA&gt;</td>\n",
       "    </tr>\n",
       "    <tr>\n",
       "      <th>...</th>\n",
       "      <td>...</td>\n",
       "      <td>...</td>\n",
       "      <td>...</td>\n",
       "      <td>...</td>\n",
       "      <td>...</td>\n",
       "      <td>...</td>\n",
       "      <td>...</td>\n",
       "      <td>...</td>\n",
       "      <td>...</td>\n",
       "      <td>...</td>\n",
       "      <td>...</td>\n",
       "      <td>...</td>\n",
       "    </tr>\n",
       "    <tr>\n",
       "      <th>309</th>\n",
       "      <td>ALV_41XV0111</td>\n",
       "      <td>41XV0111</td>\n",
       "      <td>8422845771065454</td>\n",
       "      <td>ALV_45HA001-03</td>\n",
       "      <td>U/S HEATER 45HA001.</td>\n",
       "      <td>{'AVEVA_status': 'Active', 'Platform': 'ALV', ...</td>\n",
       "      <td>5285056683268058</td>\n",
       "      <td>1574165271751</td>\n",
       "      <td>1574165271751</td>\n",
       "      <td>1242837143139220</td>\n",
       "      <td>ALV</td>\n",
       "      <td>&lt;NA&gt;</td>\n",
       "    </tr>\n",
       "    <tr>\n",
       "      <th>310</th>\n",
       "      <td>ALV_41PT0130</td>\n",
       "      <td>41PT0130</td>\n",
       "      <td>3535248407388189</td>\n",
       "      <td>ALV_41PA001B-03</td>\n",
       "      <td>H.M. CIRC PUMP B INLET PRESS TRANS</td>\n",
       "      <td>{'AVEVA_status': 'Active', 'Platform': 'ALV', ...</td>\n",
       "      <td>1934573016238057</td>\n",
       "      <td>1574165270611</td>\n",
       "      <td>1574165270611</td>\n",
       "      <td>1242837143139220</td>\n",
       "      <td>ALV</td>\n",
       "      <td>&lt;NA&gt;</td>\n",
       "    </tr>\n",
       "    <tr>\n",
       "      <th>311</th>\n",
       "      <td>SKA_7935528400704177</td>\n",
       "      <td>70-AB-0131-030</td>\n",
       "      <td>7594902862099413</td>\n",
       "      <td>SKA_5147283141001056</td>\n",
       "      <td>GAS POINT P200 TOP DECK STBD SIDE</td>\n",
       "      <td>{'ASSETSCOPENAME': 'SKA', 'ELC_STATUS_ID': '12...</td>\n",
       "      <td>8818375360278513</td>\n",
       "      <td>1574931424562</td>\n",
       "      <td>1574931424562</td>\n",
       "      <td>4468528765940921</td>\n",
       "      <td>NaN</td>\n",
       "      <td>&lt;NA&gt;</td>\n",
       "    </tr>\n",
       "    <tr>\n",
       "      <th>312</th>\n",
       "      <td>SKA_2907430145799003</td>\n",
       "      <td>13-BSV-0013</td>\n",
       "      <td>2317940267806756</td>\n",
       "      <td>SKA_4832572198021063</td>\n",
       "      <td>TO FLARE</td>\n",
       "      <td>{'ASSETSCOPENAME': 'SKA', 'ELC_STATUS_ID': '12...</td>\n",
       "      <td>4322580358623221</td>\n",
       "      <td>1574931407968</td>\n",
       "      <td>1574931407968</td>\n",
       "      <td>4468528765940921</td>\n",
       "      <td>NaN</td>\n",
       "      <td>&lt;NA&gt;</td>\n",
       "    </tr>\n",
       "    <tr>\n",
       "      <th>313</th>\n",
       "      <td>SKA_5322480473797062</td>\n",
       "      <td>97-HV-5174</td>\n",
       "      <td>5650149905453266</td>\n",
       "      <td>SKA_6283848117263100</td>\n",
       "      <td>SHUT OFF DAMPER FOR AHU 97GA510</td>\n",
       "      <td>{'ASSETSCOPENAME': 'SKA', 'ELC_STATUS_ID': '12...</td>\n",
       "      <td>4763374262679547</td>\n",
       "      <td>1574931415279</td>\n",
       "      <td>1574931415279</td>\n",
       "      <td>4468528765940921</td>\n",
       "      <td>NaN</td>\n",
       "      <td>&lt;NA&gt;</td>\n",
       "    </tr>\n",
       "  </tbody>\n",
       "</table>\n",
       "<p>314 rows × 12 columns</p>\n",
       "</div>"
      ],
      "text/plain": [
       "[<cognite.client.data_classes.assets.Asset object at 0x7f5a3df67b50>, <cognite.client.data_classes.assets.Asset object at 0x7f5a3df67b90>, <cognite.client.data_classes.assets.Asset object at 0x7f5a3df67bd0>, <cognite.client.data_classes.assets.Asset object at 0x7f5a3df67c10>, <cognite.client.data_classes.assets.Asset object at 0x7f5a3df67c50>, <cognite.client.data_classes.assets.Asset object at 0x7f5a3df67cd0>, <cognite.client.data_classes.assets.Asset object at 0x7f5a3df67d10>, <cognite.client.data_classes.assets.Asset object at 0x7f5a3df67d50>, <cognite.client.data_classes.assets.Asset object at 0x7f5a3df67d90>, <cognite.client.data_classes.assets.Asset object at 0x7f5a3df67c90>, <cognite.client.data_classes.assets.Asset object at 0x7f5a3df67dd0>, <cognite.client.data_classes.assets.Asset object at 0x7f5a3df67e10>, <cognite.client.data_classes.assets.Asset object at 0x7f5a3df67e50>, <cognite.client.data_classes.assets.Asset object at 0x7f5a3df67e90>, <cognite.client.data_classes.assets.Asset object at 0x7f5a3df67ed0>, <cognite.client.data_classes.assets.Asset object at 0x7f5a3df67f10>, <cognite.client.data_classes.assets.Asset object at 0x7f5a3df67f50>, <cognite.client.data_classes.assets.Asset object at 0x7f5a3df67f90>, <cognite.client.data_classes.assets.Asset object at 0x7f5a3df67fd0>, <cognite.client.data_classes.assets.Asset object at 0x7f5a3df6a050>, <cognite.client.data_classes.assets.Asset object at 0x7f5a3df6a090>, <cognite.client.data_classes.assets.Asset object at 0x7f5a3df6a0d0>, <cognite.client.data_classes.assets.Asset object at 0x7f5a3df6a110>, <cognite.client.data_classes.assets.Asset object at 0x7f5a3df6a150>, <cognite.client.data_classes.assets.Asset object at 0x7f5a3df6a190>, <cognite.client.data_classes.assets.Asset object at 0x7f5a3df6a1d0>, <cognite.client.data_classes.assets.Asset object at 0x7f5a3df6a210>, <cognite.client.data_classes.assets.Asset object at 0x7f5a3df6a250>, <cognite.client.data_classes.assets.Asset object at 0x7f5a3df6a290>, <cognite.client.data_classes.assets.Asset object at 0x7f5a3df6a2d0>, <cognite.client.data_classes.assets.Asset object at 0x7f5a3df6a310>, <cognite.client.data_classes.assets.Asset object at 0x7f5a3df6a350>, <cognite.client.data_classes.assets.Asset object at 0x7f5a3df6a390>, <cognite.client.data_classes.assets.Asset object at 0x7f5a3df6a3d0>, <cognite.client.data_classes.assets.Asset object at 0x7f5a3df6a410>, <cognite.client.data_classes.assets.Asset object at 0x7f5a3df6a450>, <cognite.client.data_classes.assets.Asset object at 0x7f5a3df6a490>, <cognite.client.data_classes.assets.Asset object at 0x7f5a3df6a4d0>, <cognite.client.data_classes.assets.Asset object at 0x7f5a3df6a510>, <cognite.client.data_classes.assets.Asset object at 0x7f5a3df6a550>, <cognite.client.data_classes.assets.Asset object at 0x7f5a3df6a590>, <cognite.client.data_classes.assets.Asset object at 0x7f5a3df6a5d0>, <cognite.client.data_classes.assets.Asset object at 0x7f5a3df6a610>, <cognite.client.data_classes.assets.Asset object at 0x7f5a3df6a650>, <cognite.client.data_classes.assets.Asset object at 0x7f5a3df6a690>, <cognite.client.data_classes.assets.Asset object at 0x7f5a3df6a6d0>, <cognite.client.data_classes.assets.Asset object at 0x7f5a3df6a710>, <cognite.client.data_classes.assets.Asset object at 0x7f5a3df6a750>, <cognite.client.data_classes.assets.Asset object at 0x7f5a3df6a790>, <cognite.client.data_classes.assets.Asset object at 0x7f5a3df6a7d0>, <cognite.client.data_classes.assets.Asset object at 0x7f5a3df6a810>, <cognite.client.data_classes.assets.Asset object at 0x7f5a3df6a850>, <cognite.client.data_classes.assets.Asset object at 0x7f5a3df6a890>, <cognite.client.data_classes.assets.Asset object at 0x7f5a3df6a8d0>, <cognite.client.data_classes.assets.Asset object at 0x7f5a3df6a910>, <cognite.client.data_classes.assets.Asset object at 0x7f5a3df6a950>, <cognite.client.data_classes.assets.Asset object at 0x7f5a3df6a990>, <cognite.client.data_classes.assets.Asset object at 0x7f5a3df6a9d0>, <cognite.client.data_classes.assets.Asset object at 0x7f5a3df6aa10>, <cognite.client.data_classes.assets.Asset object at 0x7f5a3df6aa50>, <cognite.client.data_classes.assets.Asset object at 0x7f5a3df6aa90>, <cognite.client.data_classes.assets.Asset object at 0x7f5a3df6aad0>, <cognite.client.data_classes.assets.Asset object at 0x7f5a3df6ab10>, <cognite.client.data_classes.assets.Asset object at 0x7f5a3df6ab50>, <cognite.client.data_classes.assets.Asset object at 0x7f5a3df6ab90>, <cognite.client.data_classes.assets.Asset object at 0x7f5a3df6abd0>, <cognite.client.data_classes.assets.Asset object at 0x7f5a3df6ac10>, <cognite.client.data_classes.assets.Asset object at 0x7f5a3df6ac50>, <cognite.client.data_classes.assets.Asset object at 0x7f5a3df6ac90>, <cognite.client.data_classes.assets.Asset object at 0x7f5a3df6acd0>, <cognite.client.data_classes.assets.Asset object at 0x7f5a3df6ad10>, <cognite.client.data_classes.assets.Asset object at 0x7f5a3df6ad50>, <cognite.client.data_classes.assets.Asset object at 0x7f5a3df6ad90>, <cognite.client.data_classes.assets.Asset object at 0x7f5a3df6add0>, <cognite.client.data_classes.assets.Asset object at 0x7f5a3df6ae10>, <cognite.client.data_classes.assets.Asset object at 0x7f5a3df6ae50>, <cognite.client.data_classes.assets.Asset object at 0x7f5a3df6ae90>, <cognite.client.data_classes.assets.Asset object at 0x7f5a3df6aed0>, <cognite.client.data_classes.assets.Asset object at 0x7f5a3df6af10>, <cognite.client.data_classes.assets.Asset object at 0x7f5a3df6af50>, <cognite.client.data_classes.assets.Asset object at 0x7f5a3df6af90>, <cognite.client.data_classes.assets.Asset object at 0x7f5a3df6afd0>, <cognite.client.data_classes.assets.Asset object at 0x7f5a3df6f050>, <cognite.client.data_classes.assets.Asset object at 0x7f5a3df6f090>, <cognite.client.data_classes.assets.Asset object at 0x7f5a3df6f0d0>, <cognite.client.data_classes.assets.Asset object at 0x7f5a3df6f110>, <cognite.client.data_classes.assets.Asset object at 0x7f5a3df6f150>, <cognite.client.data_classes.assets.Asset object at 0x7f5a3df6f190>, <cognite.client.data_classes.assets.Asset object at 0x7f5a3df6f1d0>, <cognite.client.data_classes.assets.Asset object at 0x7f5a3df6f210>, <cognite.client.data_classes.assets.Asset object at 0x7f5a3df6f250>, <cognite.client.data_classes.assets.Asset object at 0x7f5a3df6f290>, <cognite.client.data_classes.assets.Asset object at 0x7f5a3df6f2d0>, <cognite.client.data_classes.assets.Asset object at 0x7f5a3df6f310>, <cognite.client.data_classes.assets.Asset object at 0x7f5a3df6f350>, <cognite.client.data_classes.assets.Asset object at 0x7f5a3df6f390>, <cognite.client.data_classes.assets.Asset object at 0x7f5a3df6f3d0>, <cognite.client.data_classes.assets.Asset object at 0x7f5a3df6f410>, <cognite.client.data_classes.assets.Asset object at 0x7f5a3df6f450>, <cognite.client.data_classes.assets.Asset object at 0x7f5a3df6f490>, <cognite.client.data_classes.assets.Asset object at 0x7f5a3df6f4d0>, <cognite.client.data_classes.assets.Asset object at 0x7f5a3df6f510>, <cognite.client.data_classes.assets.Asset object at 0x7f5a3df6f550>, <cognite.client.data_classes.assets.Asset object at 0x7f5a3df6f590>, <cognite.client.data_classes.assets.Asset object at 0x7f5a3df6f5d0>, <cognite.client.data_classes.assets.Asset object at 0x7f5a3df6f610>, <cognite.client.data_classes.assets.Asset object at 0x7f5a3df6f650>, <cognite.client.data_classes.assets.Asset object at 0x7f5a3df6f690>, <cognite.client.data_classes.assets.Asset object at 0x7f5a3df6f6d0>, <cognite.client.data_classes.assets.Asset object at 0x7f5a3df6f710>, <cognite.client.data_classes.assets.Asset object at 0x7f5a3df6f750>, <cognite.client.data_classes.assets.Asset object at 0x7f5a3df6f790>, <cognite.client.data_classes.assets.Asset object at 0x7f5a3df6f7d0>, <cognite.client.data_classes.assets.Asset object at 0x7f5a3df6f810>, <cognite.client.data_classes.assets.Asset object at 0x7f5a3df6f850>, <cognite.client.data_classes.assets.Asset object at 0x7f5a3df6f890>, <cognite.client.data_classes.assets.Asset object at 0x7f5a3df6f8d0>, <cognite.client.data_classes.assets.Asset object at 0x7f5a3df6f910>, <cognite.client.data_classes.assets.Asset object at 0x7f5a3df6f950>, <cognite.client.data_classes.assets.Asset object at 0x7f5a3df6f990>, <cognite.client.data_classes.assets.Asset object at 0x7f5a3df6f9d0>, <cognite.client.data_classes.assets.Asset object at 0x7f5a3df6fa10>, <cognite.client.data_classes.assets.Asset object at 0x7f5a3df6fa50>, <cognite.client.data_classes.assets.Asset object at 0x7f5a3df6fa90>, <cognite.client.data_classes.assets.Asset object at 0x7f5a3df6fad0>, <cognite.client.data_classes.assets.Asset object at 0x7f5a3df6fb10>, <cognite.client.data_classes.assets.Asset object at 0x7f5a3df6fb50>, <cognite.client.data_classes.assets.Asset object at 0x7f5a3df6fb90>, <cognite.client.data_classes.assets.Asset object at 0x7f5a3df6fbd0>, <cognite.client.data_classes.assets.Asset object at 0x7f5a3df6fc10>, <cognite.client.data_classes.assets.Asset object at 0x7f5a3df6fc50>, <cognite.client.data_classes.assets.Asset object at 0x7f5a3df6fc90>, <cognite.client.data_classes.assets.Asset object at 0x7f5a3df6fcd0>, <cognite.client.data_classes.assets.Asset object at 0x7f5a3df6fd10>, <cognite.client.data_classes.assets.Asset object at 0x7f5a3df6fd50>, <cognite.client.data_classes.assets.Asset object at 0x7f5a3df6fd90>, <cognite.client.data_classes.assets.Asset object at 0x7f5a3df6fdd0>, <cognite.client.data_classes.assets.Asset object at 0x7f5a3df6fe10>, <cognite.client.data_classes.assets.Asset object at 0x7f5a3df6fe50>, <cognite.client.data_classes.assets.Asset object at 0x7f5a3df6fe90>, <cognite.client.data_classes.assets.Asset object at 0x7f5a3df6fed0>, <cognite.client.data_classes.assets.Asset object at 0x7f5a3df6ff10>, <cognite.client.data_classes.assets.Asset object at 0x7f5a3df6ff50>, <cognite.client.data_classes.assets.Asset object at 0x7f5a3df6ff90>, <cognite.client.data_classes.assets.Asset object at 0x7f5a3df6ffd0>, <cognite.client.data_classes.assets.Asset object at 0x7f5a3df75050>, <cognite.client.data_classes.assets.Asset object at 0x7f5a3df75090>, <cognite.client.data_classes.assets.Asset object at 0x7f5a3df750d0>, <cognite.client.data_classes.assets.Asset object at 0x7f5a3df75110>, <cognite.client.data_classes.assets.Asset object at 0x7f5a3df75150>, <cognite.client.data_classes.assets.Asset object at 0x7f5a3df75190>, <cognite.client.data_classes.assets.Asset object at 0x7f5a3df751d0>, <cognite.client.data_classes.assets.Asset object at 0x7f5a3df75210>, <cognite.client.data_classes.assets.Asset object at 0x7f5a3df75250>, <cognite.client.data_classes.assets.Asset object at 0x7f5a3df75290>, <cognite.client.data_classes.assets.Asset object at 0x7f5a3df752d0>, <cognite.client.data_classes.assets.Asset object at 0x7f5a3df75310>, <cognite.client.data_classes.assets.Asset object at 0x7f5a3df75350>, <cognite.client.data_classes.assets.Asset object at 0x7f5a3df75390>, <cognite.client.data_classes.assets.Asset object at 0x7f5a3df753d0>, <cognite.client.data_classes.assets.Asset object at 0x7f5a3df75410>, <cognite.client.data_classes.assets.Asset object at 0x7f5a3df75450>, <cognite.client.data_classes.assets.Asset object at 0x7f5a3df75490>, <cognite.client.data_classes.assets.Asset object at 0x7f5a3df754d0>, <cognite.client.data_classes.assets.Asset object at 0x7f5a3df75510>, <cognite.client.data_classes.assets.Asset object at 0x7f5a3df75550>, <cognite.client.data_classes.assets.Asset object at 0x7f5a3df75590>, <cognite.client.data_classes.assets.Asset object at 0x7f5a3df755d0>, <cognite.client.data_classes.assets.Asset object at 0x7f5a3df75610>, <cognite.client.data_classes.assets.Asset object at 0x7f5a3df75650>, <cognite.client.data_classes.assets.Asset object at 0x7f5a3df75690>, <cognite.client.data_classes.assets.Asset object at 0x7f5a3df756d0>, <cognite.client.data_classes.assets.Asset object at 0x7f5a3df75710>, <cognite.client.data_classes.assets.Asset object at 0x7f5a3df75750>, <cognite.client.data_classes.assets.Asset object at 0x7f5a3df75790>, <cognite.client.data_classes.assets.Asset object at 0x7f5a3df757d0>, <cognite.client.data_classes.assets.Asset object at 0x7f5a3df75810>, <cognite.client.data_classes.assets.Asset object at 0x7f5a3df75850>, <cognite.client.data_classes.assets.Asset object at 0x7f5a3df75890>, <cognite.client.data_classes.assets.Asset object at 0x7f5a3df758d0>, <cognite.client.data_classes.assets.Asset object at 0x7f5a3df75910>, <cognite.client.data_classes.assets.Asset object at 0x7f5a3df75950>, <cognite.client.data_classes.assets.Asset object at 0x7f5a3df75990>, <cognite.client.data_classes.assets.Asset object at 0x7f5a3df759d0>, <cognite.client.data_classes.assets.Asset object at 0x7f5a3df75a10>, <cognite.client.data_classes.assets.Asset object at 0x7f5a3df75a50>, <cognite.client.data_classes.assets.Asset object at 0x7f5a3df75a90>, <cognite.client.data_classes.assets.Asset object at 0x7f5a3df75ad0>, <cognite.client.data_classes.assets.Asset object at 0x7f5a3df75b10>, <cognite.client.data_classes.assets.Asset object at 0x7f5a3df75b50>, <cognite.client.data_classes.assets.Asset object at 0x7f5a3df75b90>, <cognite.client.data_classes.assets.Asset object at 0x7f5a3df75bd0>, <cognite.client.data_classes.assets.Asset object at 0x7f5a3df75c10>, <cognite.client.data_classes.assets.Asset object at 0x7f5a3df75c50>, <cognite.client.data_classes.assets.Asset object at 0x7f5a3df75c90>, <cognite.client.data_classes.assets.Asset object at 0x7f5a3df75cd0>, <cognite.client.data_classes.assets.Asset object at 0x7f5a3df75d10>, <cognite.client.data_classes.assets.Asset object at 0x7f5a3df75d50>, <cognite.client.data_classes.assets.Asset object at 0x7f5a3df75d90>, <cognite.client.data_classes.assets.Asset object at 0x7f5a3df75dd0>, <cognite.client.data_classes.assets.Asset object at 0x7f5a3df75e10>, <cognite.client.data_classes.assets.Asset object at 0x7f5a3df75e50>, <cognite.client.data_classes.assets.Asset object at 0x7f5a3df75e90>, <cognite.client.data_classes.assets.Asset object at 0x7f5a3df75ed0>, <cognite.client.data_classes.assets.Asset object at 0x7f5a3df75f10>, <cognite.client.data_classes.assets.Asset object at 0x7f5a3df75f50>, <cognite.client.data_classes.assets.Asset object at 0x7f5a3df75f90>, <cognite.client.data_classes.assets.Asset object at 0x7f5a3df75fd0>, <cognite.client.data_classes.assets.Asset object at 0x7f5a3df79050>, <cognite.client.data_classes.assets.Asset object at 0x7f5a3df79090>, <cognite.client.data_classes.assets.Asset object at 0x7f5a3df790d0>, <cognite.client.data_classes.assets.Asset object at 0x7f5a3df79110>, <cognite.client.data_classes.assets.Asset object at 0x7f5a3df79150>, <cognite.client.data_classes.assets.Asset object at 0x7f5a3df79190>, <cognite.client.data_classes.assets.Asset object at 0x7f5a3df791d0>, <cognite.client.data_classes.assets.Asset object at 0x7f5a3df79210>, <cognite.client.data_classes.assets.Asset object at 0x7f5a3df79250>, <cognite.client.data_classes.assets.Asset object at 0x7f5a3df79290>, <cognite.client.data_classes.assets.Asset object at 0x7f5a3df792d0>, <cognite.client.data_classes.assets.Asset object at 0x7f5a3df79310>, <cognite.client.data_classes.assets.Asset object at 0x7f5a3df79350>, <cognite.client.data_classes.assets.Asset object at 0x7f5a3df79390>, <cognite.client.data_classes.assets.Asset object at 0x7f5a3df793d0>, <cognite.client.data_classes.assets.Asset object at 0x7f5a3df79410>, <cognite.client.data_classes.assets.Asset object at 0x7f5a3df79450>, <cognite.client.data_classes.assets.Asset object at 0x7f5a3df79490>, <cognite.client.data_classes.assets.Asset object at 0x7f5a3df794d0>, <cognite.client.data_classes.assets.Asset object at 0x7f5a3df79510>, <cognite.client.data_classes.assets.Asset object at 0x7f5a3df79550>, <cognite.client.data_classes.assets.Asset object at 0x7f5a3df79590>, <cognite.client.data_classes.assets.Asset object at 0x7f5a3df795d0>, <cognite.client.data_classes.assets.Asset object at 0x7f5a3df79610>, <cognite.client.data_classes.assets.Asset object at 0x7f5a3df79650>, <cognite.client.data_classes.assets.Asset object at 0x7f5a3df79690>, <cognite.client.data_classes.assets.Asset object at 0x7f5a3df796d0>, <cognite.client.data_classes.assets.Asset object at 0x7f5a3df79710>, <cognite.client.data_classes.assets.Asset object at 0x7f5a3df79750>, <cognite.client.data_classes.assets.Asset object at 0x7f5a3df79790>, <cognite.client.data_classes.assets.Asset object at 0x7f5a3df797d0>, <cognite.client.data_classes.assets.Asset object at 0x7f5a3df79810>, <cognite.client.data_classes.assets.Asset object at 0x7f5a3df79850>, <cognite.client.data_classes.assets.Asset object at 0x7f5a3df79890>, <cognite.client.data_classes.assets.Asset object at 0x7f5a3df798d0>, <cognite.client.data_classes.assets.Asset object at 0x7f5a3df79910>, <cognite.client.data_classes.assets.Asset object at 0x7f5a3df79950>, <cognite.client.data_classes.assets.Asset object at 0x7f5a3df79990>, <cognite.client.data_classes.assets.Asset object at 0x7f5a3df799d0>, <cognite.client.data_classes.assets.Asset object at 0x7f5a3df79a10>, <cognite.client.data_classes.assets.Asset object at 0x7f5a3df79a50>, <cognite.client.data_classes.assets.Asset object at 0x7f5a3df79a90>, <cognite.client.data_classes.assets.Asset object at 0x7f5a3df79ad0>, <cognite.client.data_classes.assets.Asset object at 0x7f5a3df79b10>, <cognite.client.data_classes.assets.Asset object at 0x7f5a3df79b50>, <cognite.client.data_classes.assets.Asset object at 0x7f5a3df79b90>, <cognite.client.data_classes.assets.Asset object at 0x7f5a3df79bd0>, <cognite.client.data_classes.assets.Asset object at 0x7f5a3df79c10>, <cognite.client.data_classes.assets.Asset object at 0x7f5a3df79c50>, <cognite.client.data_classes.assets.Asset object at 0x7f5a3df79c90>, <cognite.client.data_classes.assets.Asset object at 0x7f5a3df79cd0>, <cognite.client.data_classes.assets.Asset object at 0x7f5a3df79d10>, <cognite.client.data_classes.assets.Asset object at 0x7f5a3df79d50>, <cognite.client.data_classes.assets.Asset object at 0x7f5a3df79d90>, <cognite.client.data_classes.assets.Asset object at 0x7f5a3df79dd0>, <cognite.client.data_classes.assets.Asset object at 0x7f5a3df79e10>, <cognite.client.data_classes.assets.Asset object at 0x7f5a3df79e50>, <cognite.client.data_classes.assets.Asset object at 0x7f5a3df79e90>, <cognite.client.data_classes.assets.Asset object at 0x7f5a3df79ed0>, <cognite.client.data_classes.assets.Asset object at 0x7f5a3df79f10>, <cognite.client.data_classes.assets.Asset object at 0x7f5a3df79f50>, <cognite.client.data_classes.assets.Asset object at 0x7f5a3df79f90>, <cognite.client.data_classes.assets.Asset object at 0x7f5a3df79fd0>, <cognite.client.data_classes.assets.Asset object at 0x7f5a3df7e050>, <cognite.client.data_classes.assets.Asset object at 0x7f5a3df7e090>, <cognite.client.data_classes.assets.Asset object at 0x7f5a3df7e0d0>, <cognite.client.data_classes.assets.Asset object at 0x7f5a3df7e110>, <cognite.client.data_classes.assets.Asset object at 0x7f5a3df7e150>, <cognite.client.data_classes.assets.Asset object at 0x7f5a3df7e190>, <cognite.client.data_classes.assets.Asset object at 0x7f5a3df7e1d0>, <cognite.client.data_classes.assets.Asset object at 0x7f5a3df7e210>, <cognite.client.data_classes.assets.Asset object at 0x7f5a3df7e250>, <cognite.client.data_classes.assets.Asset object at 0x7f5a3df7e290>, <cognite.client.data_classes.assets.Asset object at 0x7f5a3df7e2d0>, <cognite.client.data_classes.assets.Asset object at 0x7f5a3df7e310>, <cognite.client.data_classes.assets.Asset object at 0x7f5a3df7e350>, <cognite.client.data_classes.assets.Asset object at 0x7f5a3df7e390>, <cognite.client.data_classes.assets.Asset object at 0x7f5a3df7e3d0>, <cognite.client.data_classes.assets.Asset object at 0x7f5a3df7e410>, <cognite.client.data_classes.assets.Asset object at 0x7f5a3df7e450>, <cognite.client.data_classes.assets.Asset object at 0x7f5a3df7e490>, <cognite.client.data_classes.assets.Asset object at 0x7f5a3df7e4d0>, <cognite.client.data_classes.assets.Asset object at 0x7f5a3df7e510>, <cognite.client.data_classes.assets.Asset object at 0x7f5a3df7e550>, <cognite.client.data_classes.assets.Asset object at 0x7f5a3df7e590>, <cognite.client.data_classes.assets.Asset object at 0x7f5a3df7e5d0>, <cognite.client.data_classes.assets.Asset object at 0x7f5a3df7e610>, <cognite.client.data_classes.assets.Asset object at 0x7f5a3df7e650>, <cognite.client.data_classes.assets.Asset object at 0x7f5a3df7e690>, <cognite.client.data_classes.assets.Asset object at 0x7f5a3df7e6d0>, <cognite.client.data_classes.assets.Asset object at 0x7f5a3df7e710>, <cognite.client.data_classes.assets.Asset object at 0x7f5a3df7e750>, <cognite.client.data_classes.assets.Asset object at 0x7f5a3df7e790>, <cognite.client.data_classes.assets.Asset object at 0x7f5a3df7e7d0>, <cognite.client.data_classes.assets.Asset object at 0x7f5a3df7e810>, <cognite.client.data_classes.assets.Asset object at 0x7f5a3df7e850>, <cognite.client.data_classes.assets.Asset object at 0x7f5a3df7e890>, <cognite.client.data_classes.assets.Asset object at 0x7f5a3df7e8d0>, <cognite.client.data_classes.assets.Asset object at 0x7f5a3df7e910>, <cognite.client.data_classes.assets.Asset object at 0x7f5a3df7e950>, <cognite.client.data_classes.assets.Asset object at 0x7f5a3df7e990>, <cognite.client.data_classes.assets.Asset object at 0x7f5a3df7e9d0>, <cognite.client.data_classes.assets.Asset object at 0x7f5a3df7ea10>, <cognite.client.data_classes.assets.Asset object at 0x7f5a3df7ea50>, <cognite.client.data_classes.assets.Asset object at 0x7f5a3df7ea90>, <cognite.client.data_classes.assets.Asset object at 0x7f5a3df7ead0>]"
      ]
     },
     "execution_count": 62,
     "metadata": {},
     "output_type": "execute_result"
    }
   ],
   "source": [
    "assets"
   ]
  },
  {
   "cell_type": "code",
   "execution_count": 77,
   "metadata": {},
   "outputs": [
    {
     "data": {
      "text/plain": [
       "[{'name': 'simple',\n",
       "  'match_fields': [('name', 'name')],\n",
       "  'feature_type': 'simple',\n",
       "  'classifier': 'RandomForest'}]"
      ]
     },
     "execution_count": 77,
     "metadata": {},
     "output_type": "execute_result"
    }
   ],
   "source": [
    "test_combs[0:1]"
   ]
  },
  {
   "cell_type": "code",
   "execution_count": 82,
   "metadata": {},
   "outputs": [],
   "source": [
    "score_threshold = 0.75\n",
    "for parameter_comb in test_combs:\n",
    "    if parameter_comb[\"classifier\"] == \"Unsupervised\":\n",
    "        true_matches = None\n",
    "        classifier = None\n",
    "    else:\n",
    "        true_matches = true_matches_train\n",
    "        classifier = parameter_comb[\"classifier\"]\n",
    "\n",
    "    start_time = time.time()\n",
    "    model = client.entity_matching.fit(\n",
    "        sources=time_series_train,\n",
    "        targets=assets,\n",
    "        true_matches=true_matches,\n",
    "        match_fields=parameter_comb[\"match_fields\"],\n",
    "        feature_type=parameter_comb[\"feature_type\"],\n",
    "        classifier=classifier,\n",
    "        ignore_missing_fields=True,\n",
    "        name=parameter_comb[\"name\"],\n",
    "    )\n",
    "    \n",
    "    results = model.predict(\n",
    "        sources=time_series_test, targets=assets).result\n",
    "    parameter_comb[\"runtime\"] = time.time() - start_time\n",
    "    (tp, fp, fn, precision, recall, f1) = evaluate(\n",
    "        true_matches=true_matches_test,\n",
    "        predicted_matches=results[\"items\"],\n",
    "        score_threshold=score_threshold,\n",
    "    )\n",
    "    parameter_comb[\"precision\"], parameter_comb[\"recall\"], parameter_comb[\"f1\"] = (\n",
    "        precision,\n",
    "        recall,\n",
    "        f1,\n",
    "    )\n",
    "    parameter_comb[\"id\"] = model.id\n"
   ]
  },
  {
   "cell_type": "markdown",
   "metadata": {},
   "source": [
    "## Plot the results"
   ]
  },
  {
   "cell_type": "code",
   "execution_count": 83,
   "metadata": {},
   "outputs": [],
   "source": [
    "x = [test_comb[\"f1\"] for test_comb in test_combs]\n",
    "y = [test_comb[\"runtime\"] for test_comb in test_combs]\n",
    "labels = [test_comb[\"name\"] for test_comb in test_combs]"
   ]
  },
  {
   "cell_type": "code",
   "execution_count": 84,
   "metadata": {},
   "outputs": [
    {
     "data": {
      "image/png": "[encoded data removed]",
      "text/plain": [
       "<Figure size 720x720 with 1 Axes>"
      ]
     },
     "metadata": {
      "needs_background": "light"
     },
     "output_type": "display_data"
    }
   ],
   "source": [
    "fig, ax = plt.subplots(figsize=(10, 10))\n",
    "ax.scatter(x, y)\n",
    "\n",
    "ax.set_ylabel(\"Run time (s)\")\n",
    "ax.set_xlabel(\"F1 (performance)\")\n",
    "ax.set_title(\"Compare parameter combinations\")\n",
    "\n",
    "for i, txt in enumerate(labels):\n",
    "    ax.annotate(txt, (x[i], y[i]))"
   ]
  },
  {
   "cell_type": "markdown",
   "metadata": {},
   "source": [
    "## Select a model, retrieve and update it and investigate the results"
   ]
  },
  {
   "cell_type": "code",
   "execution_count": 85,
   "metadata": {},
   "outputs": [],
   "source": [
    "# Select model by name\n",
    "id_selected = [\n",
    "    x[\"id\"] for x in test_combs if x[\"name\"] == \"bigram_extra_tokenizers\"\n",
    "][0]"
   ]
  },
  {
   "cell_type": "code",
   "execution_count": 86,
   "metadata": {},
   "outputs": [
    {
     "data": {
      "text/html": [
       "<div>\n",
       "<style scoped>\n",
       "    .dataframe tbody tr th:only-of-type {\n",
       "        vertical-align: middle;\n",
       "    }\n",
       "\n",
       "    .dataframe tbody tr th {\n",
       "        vertical-align: top;\n",
       "    }\n",
       "\n",
       "    .dataframe thead th {\n",
       "        text-align: right;\n",
       "    }\n",
       "</style>\n",
       "<table border=\"1\" class=\"dataframe\">\n",
       "  <thead>\n",
       "    <tr style=\"text-align: right;\">\n",
       "      <th></th>\n",
       "      <th>value</th>\n",
       "    </tr>\n",
       "  </thead>\n",
       "  <tbody>\n",
       "    <tr>\n",
       "      <th>id</th>\n",
       "      <td>6916363549793125</td>\n",
       "    </tr>\n",
       "    <tr>\n",
       "      <th>status</th>\n",
       "      <td>Completed</td>\n",
       "    </tr>\n",
       "    <tr>\n",
       "      <th>created_time</th>\n",
       "      <td>1607427184579</td>\n",
       "    </tr>\n",
       "    <tr>\n",
       "      <th>start_time</th>\n",
       "      <td>1607427185038</td>\n",
       "    </tr>\n",
       "    <tr>\n",
       "      <th>status_time</th>\n",
       "      <td>1607427185740</td>\n",
       "    </tr>\n",
       "    <tr>\n",
       "      <th>classifier</th>\n",
       "      <td>RandomForest</td>\n",
       "    </tr>\n",
       "    <tr>\n",
       "      <th>feature_type</th>\n",
       "      <td>bigram-extra-tokenizers</td>\n",
       "    </tr>\n",
       "    <tr>\n",
       "      <th>match_fields</th>\n",
       "      <td>[{'source': 'name', 'target': 'name'}]</td>\n",
       "    </tr>\n",
       "    <tr>\n",
       "      <th>name</th>\n",
       "      <td>bigram_extra_tokenizers</td>\n",
       "    </tr>\n",
       "  </tbody>\n",
       "</table>\n",
       "</div>"
      ],
      "text/plain": [
       "<cognite.client.data_classes.contextualization.EntityMatchingModel at 0x7f5a3dc94190>"
      ]
     },
     "execution_count": 86,
     "metadata": {},
     "output_type": "execute_result"
    }
   ],
   "source": [
    "# Retrive the model\n",
    "model = client.entity_matching.retrieve(id=id_selected)\n",
    "model"
   ]
  },
  {
   "cell_type": "markdown",
   "metadata": {},
   "source": [
    "### Update the description of the model\n",
    "Updating the model is not yet available in the SDK. It will soon be, but for now we have to use the API."
   ]
  },
  {
   "cell_type": "code",
   "execution_count": 87,
   "metadata": {},
   "outputs": [],
   "source": [
    "model.description = \"My chosen model\"\n",
    "model = client.entity_matching.update(model)"
   ]
  },
  {
   "cell_type": "markdown",
   "metadata": {},
   "source": [
    "### Investigate the results"
   ]
  },
  {
   "cell_type": "code",
   "execution_count": 89,
   "metadata": {},
   "outputs": [],
   "source": [
    "# Predict on the test-data and evaluate ones more.\n",
    "results = model.predict(sources=time_series_test, targets=assets).result\n",
    "(tp, fp, fn, precision, recall, f1) = evaluate(\n",
    "    true_matches=true_matches_test,\n",
    "    predicted_matches=results[\"items\"],\n",
    "    score_threshold=score_threshold,\n",
    ")"
   ]
  },
  {
   "cell_type": "markdown",
   "metadata": {},
   "source": [
    "#### Predicted matches"
   ]
  },
  {
   "cell_type": "code",
   "execution_count": 95,
   "metadata": {},
   "outputs": [
    {
     "data": {
      "text/html": [
       "<div>\n",
       "<style scoped>\n",
       "    .dataframe tbody tr th:only-of-type {\n",
       "        vertical-align: middle;\n",
       "    }\n",
       "\n",
       "    .dataframe tbody tr th {\n",
       "        vertical-align: top;\n",
       "    }\n",
       "\n",
       "    .dataframe thead th {\n",
       "        text-align: right;\n",
       "    }\n",
       "</style>\n",
       "<table border=\"1\" class=\"dataframe\">\n",
       "  <thead>\n",
       "    <tr style=\"text-align: right;\">\n",
       "      <th></th>\n",
       "      <th>time_series_id</th>\n",
       "      <th>time_series_name</th>\n",
       "      <th>predicted_asset_name</th>\n",
       "      <th>score</th>\n",
       "    </tr>\n",
       "  </thead>\n",
       "  <tbody>\n",
       "    <tr>\n",
       "      <th>0</th>\n",
       "      <td>25727499434414</td>\n",
       "      <td>SKAP_80GP200Reg/Y/PRIM</td>\n",
       "      <td>80-VI-4241Y</td>\n",
       "      <td>0.939237</td>\n",
       "    </tr>\n",
       "    <tr>\n",
       "      <th>1</th>\n",
       "      <td>38139055347597</td>\n",
       "      <td>SKAP_42XV0001/BCH/PRIM</td>\n",
       "      <td>42-XV-0002</td>\n",
       "      <td>0.391626</td>\n",
       "    </tr>\n",
       "    <tr>\n",
       "      <th>2</th>\n",
       "      <td>97333736582180</td>\n",
       "      <td>vtt_ska_vos_43XY1001</td>\n",
       "      <td>SKA</td>\n",
       "      <td>0.0274027</td>\n",
       "    </tr>\n",
       "    <tr>\n",
       "      <th>3</th>\n",
       "      <td>82723390997986</td>\n",
       "      <td>OS07 Net A-Bow Orion</td>\n",
       "      <td>Bow Orion</td>\n",
       "      <td>0.981156</td>\n",
       "    </tr>\n",
       "    <tr>\n",
       "      <th>4</th>\n",
       "      <td>14550808011636</td>\n",
       "      <td>vtt_ska_rto_97BV5787</td>\n",
       "      <td>97-BV-5741</td>\n",
       "      <td>0.501182</td>\n",
       "    </tr>\n",
       "  </tbody>\n",
       "</table>\n",
       "</div>"
      ],
      "text/plain": [
       "   time_series_id        time_series_name predicted_asset_name      score\n",
       "0  25727499434414  SKAP_80GP200Reg/Y/PRIM          80-VI-4241Y   0.939237\n",
       "1  38139055347597  SKAP_42XV0001/BCH/PRIM           42-XV-0002   0.391626\n",
       "2  97333736582180    vtt_ska_vos_43XY1001                  SKA  0.0274027\n",
       "3  82723390997986    OS07 Net A-Bow Orion            Bow Orion   0.981156\n",
       "4  14550808011636    vtt_ska_rto_97BV5787           97-BV-5741   0.501182"
      ]
     },
     "execution_count": 95,
     "metadata": {},
     "output_type": "execute_result"
    }
   ],
   "source": [
    "predicted_matches_list = []\n",
    "for x in results[\"items\"]:\n",
    "    time_series_id = x[\"source\"][\"id\"]\n",
    "    time_series_name = x[\"source\"][\"name\"]\n",
    "    matches = x[\"matches\"]\n",
    "    if matches:\n",
    "        score = matches[0][\"score\"]\n",
    "        asset_name = matches[0][\"target\"][\"name\"]\n",
    "    else:\n",
    "        score, asset_name = \"\", \"\"\n",
    "    predicted_matches_list.append(\n",
    "        {\n",
    "            \"time_series_id\": time_series_id,\n",
    "            \"time_series_name\": time_series_name,\n",
    "            \"predicted_asset_name\": asset_name,\n",
    "            \"score\": score,\n",
    "        }\n",
    "    )\n",
    "df_predicted_matches = pd.DataFrame(predicted_matches_list)\n",
    "df_predicted_matches.head()"
   ]
  },
  {
   "cell_type": "markdown",
   "metadata": {},
   "source": [
    "#### False negatives"
   ]
  },
  {
   "cell_type": "code",
   "execution_count": 96,
   "metadata": {},
   "outputs": [
    {
     "data": {
      "text/html": [
       "<div>\n",
       "<style scoped>\n",
       "    .dataframe tbody tr th:only-of-type {\n",
       "        vertical-align: middle;\n",
       "    }\n",
       "\n",
       "    .dataframe tbody tr th {\n",
       "        vertical-align: top;\n",
       "    }\n",
       "\n",
       "    .dataframe thead th {\n",
       "        text-align: right;\n",
       "    }\n",
       "</style>\n",
       "<table border=\"1\" class=\"dataframe\">\n",
       "  <thead>\n",
       "    <tr style=\"text-align: right;\">\n",
       "      <th></th>\n",
       "      <th>time_series_name</th>\n",
       "      <th>asset_name</th>\n",
       "      <th>predicted_asset_name</th>\n",
       "      <th>score</th>\n",
       "    </tr>\n",
       "  </thead>\n",
       "  <tbody>\n",
       "    <tr>\n",
       "      <th>0</th>\n",
       "      <td>SKAP_80GP200Reg/Y/PRIM</td>\n",
       "      <td>SKA</td>\n",
       "      <td>80-VI-4241Y</td>\n",
       "      <td>0.939237</td>\n",
       "    </tr>\n",
       "    <tr>\n",
       "      <th>1</th>\n",
       "      <td>SKAP_42XV0001/BCH/PRIM</td>\n",
       "      <td>NaN</td>\n",
       "      <td>42-XV-0002</td>\n",
       "      <td>0.391626</td>\n",
       "    </tr>\n",
       "    <tr>\n",
       "      <th>2</th>\n",
       "      <td>vtt_ska_vos_43XY1001</td>\n",
       "      <td>NaN</td>\n",
       "      <td>SKA</td>\n",
       "      <td>0.0274027</td>\n",
       "    </tr>\n",
       "    <tr>\n",
       "      <th>3</th>\n",
       "      <td>vtt_ska_rto_97BV5787</td>\n",
       "      <td>NaN</td>\n",
       "      <td>97-BV-5741</td>\n",
       "      <td>0.501182</td>\n",
       "    </tr>\n",
       "    <tr>\n",
       "      <th>4</th>\n",
       "      <td>SKAP_50FSI0125/pAlLimHH/30sSAMP</td>\n",
       "      <td>NaN</td>\n",
       "      <td>50-FSI-0120</td>\n",
       "      <td>0.391626</td>\n",
       "    </tr>\n",
       "  </tbody>\n",
       "</table>\n",
       "</div>"
      ],
      "text/plain": [
       "                  time_series_name asset_name predicted_asset_name      score\n",
       "0           SKAP_80GP200Reg/Y/PRIM        SKA          80-VI-4241Y   0.939237\n",
       "1           SKAP_42XV0001/BCH/PRIM        NaN           42-XV-0002   0.391626\n",
       "2             vtt_ska_vos_43XY1001        NaN                  SKA  0.0274027\n",
       "3             vtt_ska_rto_97BV5787        NaN           97-BV-5741   0.501182\n",
       "4  SKAP_50FSI0125/pAlLimHH/30sSAMP        NaN          50-FSI-0120   0.391626"
      ]
     },
     "execution_count": 96,
     "metadata": {},
     "output_type": "execute_result"
    }
   ],
   "source": [
    "df_time_series = time_series_test.to_pandas()[[\"id\", \"name\", \"assetId\"]].add_prefix(\n",
    "    \"time_series_\"\n",
    ")\n",
    "df_assets = assets.to_pandas()[[\"id\", \"name\"]]\n",
    "\n",
    "false_negatives = pd.merge(\n",
    "    pd.DataFrame(fn), df_time_series, how=\"left\", left_on=0, right_on=\"time_series_id\"\n",
    ")\n",
    "false_negatives = pd.merge(\n",
    "    false_negatives,\n",
    "    df_assets.add_prefix(\"asset_\"),\n",
    "    how=\"left\",\n",
    "    left_on=1,\n",
    "    right_on=\"asset_id\",\n",
    ")\n",
    "false_negatives = pd.merge(false_negatives, df_predicted_matches, how=\"left\")\n",
    "false_negatives.drop(\n",
    "    [0, 1, \"time_series_id\", \"time_series_assetId\", \"asset_id\"], axis=1, inplace=True\n",
    ")\n",
    "false_negatives.head()"
   ]
  },
  {
   "cell_type": "markdown",
   "metadata": {},
   "source": [
    "## Delete all created models"
   ]
  },
  {
   "cell_type": "code",
   "execution_count": 97,
   "metadata": {},
   "outputs": [],
   "source": [
    "id_list = [x[\"id\"] for x in test_combs]\n",
    "client.entity_matching.delete(id_list)"
   ]
  },
  {
   "cell_type": "code",
   "execution_count": null,
   "metadata": {},
   "outputs": [],
   "source": []
  }
 ],
 "metadata": {
  "kernelspec": {
   "display_name": "Python 3",
   "language": "python",
   "name": "python3"
  },
  "language_info": {
   "codemirror_mode": {
    "name": "ipython",
    "version": 3
   },
   "file_extension": ".py",
   "mimetype": "text/x-python",
   "name": "python",
   "nbconvert_exporter": "python",
   "pygments_lexer": "ipython3",
   "version": "3.7.4"
  }
 },
 "nbformat": 4,
 "nbformat_minor": 2
}
