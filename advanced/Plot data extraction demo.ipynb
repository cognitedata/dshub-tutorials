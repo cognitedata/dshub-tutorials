{
 "cells": [
  {
   "cell_type": "markdown",
   "metadata": {},
   "source": [
    "# Plot data extraction demo\n",
    "\n",
    "This notebook demonstrates how to extract data points from a plot using the plot data extraction endpoint.\n",
    "\n",
    "The currrent version only supports line plots without a legend, similar to the example."
   ]
  },
  {
   "cell_type": "code",
   "execution_count": null,
   "metadata": {},
   "outputs": [],
   "source": [
    "from jupyter_innotater import *\n",
    "import matplotlib.pyplot as plt\n",
    "from PIL import Image, ImageDraw\n",
    "import numpy as np\n",
    "import os\n",
    "from cognite.client import CogniteClient\n",
    "import json\n",
    "from getpass import getpass\n",
    "import pprint\n",
    "pp = pprint.PrettyPrinter(indent=2)"
   ]
  },
  {
   "cell_type": "markdown",
   "metadata": {},
   "source": [
    "## Create a client\n",
    "\n",
    "To get access to your project, replace \"yourproject\" with your project name in the next cell. \n",
    "\n",
    "When you create the CogniteClient below, getpass will ask for your API key in an extra password field. Simply paste it in and press shift+enter."
   ]
  },
  {
   "cell_type": "code",
   "execution_count": null,
   "metadata": {},
   "outputs": [],
   "source": [
    "project = 'your_project'\n",
    "api_key = getpass(\"Please enter API key: \")\n",
    "client = CogniteClient(project=project,\n",
    "                       api_key=api_key,\n",
    "                       client_name=\"dshub\",\n",
    "                      )"
   ]
  },
  {
   "cell_type": "markdown",
   "metadata": {},
   "source": [
    "## Load an plot example image from google drive\n",
    "Load an image which includes a plot, draw a bounding box coinciding with the axes of the plot and copy the value (4 numeric values separated by commas) of the bounding box to the cell below."
   ]
  },
  {
   "cell_type": "code",
   "execution_count": null,
   "metadata": {},
   "outputs": [],
   "source": [
    "!pip install gdown\n",
    "!gdown https://drive.google.com/uc?id=1nVmRoXM5ZYYRTAQAiJbwH09bZcurZuBk"
   ]
  },
  {
   "cell_type": "code",
   "execution_count": null,
   "metadata": {},
   "outputs": [],
   "source": [
    "image = \"./choke_flow_curves.jpg\"\n",
    "annotations = np.zeros((1, 4))\n",
    "\n",
    "Innotater(\n",
    "    ImageInnotation([image], path=\"./\"),\n",
    "    BoundingBoxInnotation(annotations),\n",
    ")"
   ]
  },
  {
   "cell_type": "markdown",
   "metadata": {},
   "source": [
    "## Crop the plot indicated by the bounding box from image "
   ]
  },
  {
   "cell_type": "code",
   "execution_count": null,
   "metadata": {},
   "outputs": [],
   "source": [
    "# Copy the values of the above boundingbox here\n",
    "x1, y1, w, h = 195, 914, 329, 264\n",
    "# Please input the scale of x-axis and y-axis below, otherwise the default values will be applied\n",
    "x_min=0\n",
    "x_max=100\n",
    "y_min=0\n",
    "y_max=40\n",
    "# Please specify the number of curves in this plot, the default example has 3 curves\n",
    "num_curves=3\n",
    "plot_image = Image.open(image).crop((x1, y1, x1 + w, y1 + h)).convert(\"RGB\")\n",
    "plot_image"
   ]
  },
  {
   "cell_type": "markdown",
   "metadata": {},
   "source": [
    "## Convert the image to base64 string"
   ]
  },
  {
   "cell_type": "code",
   "execution_count": null,
   "metadata": {},
   "outputs": [],
   "source": [
    "from io import BytesIO\n",
    "import base64\n",
    "def image_to_base64_str(image: Image) -> str:\n",
    "    \"\"\"Convert image to base64 string\n",
    "    Parameters\n",
    "    ----------\n",
    "    image : image\n",
    "\n",
    "    Returns: base64 string of the image\n",
    "    -------\n",
    "\n",
    "    \"\"\"\n",
    "    im_file = BytesIO()\n",
    "    image.save(im_file, format=\"JPEG\")\n",
    "    im_bytes = im_file.getvalue()\n",
    "    return str(base64.b64encode(im_bytes), \"utf-8\")\n",
    "\n",
    "image_string = image_to_base64_str(plot_image)"
   ]
  },
  {
   "cell_type": "markdown",
   "metadata": {},
   "source": [
    "## Plot data extraction endpoint"
   ]
  },
  {
   "cell_type": "markdown",
   "metadata": {},
   "source": [
    "### post a request"
   ]
  },
  {
   "cell_type": "code",
   "execution_count": null,
   "metadata": {},
   "outputs": [],
   "source": [
    "api_url = f\"/api/playground/projects/{project}/context/plotextractor\"\n",
    "extractdata_url = f\"{api_url}/extractdata\"\n",
    "\n",
    "post_body = {\n",
    "    \"plotImage\": image_string,\n",
    "    \"plotAxes\": {\"xMin\": x_min, \"xMax\": x_max, \"yMin\": y_min, \"yMax\": y_max},\n",
    "    \"numCurves\": num_curves\n",
    "}\n",
    "\n",
    "res = client.post(url = extractdata_url, json = post_body)\n",
    "job_id = json.loads(res.text)[\"jobId\"]\n",
    "print(\"jobId:\", job_id)"
   ]
  },
  {
   "cell_type": "markdown",
   "metadata": {},
   "source": [
    "### get a job"
   ]
  },
  {
   "cell_type": "code",
   "execution_count": null,
   "metadata": {},
   "outputs": [],
   "source": [
    "import time\n",
    "res = client.get(url = f\"{api_url}/{job_id}\")\n",
    "while json.loads(res.text)[\"status\"] != \"Completed\":\n",
    "        time.sleep(2)\n",
    "        res = client.get(url = f\"{api_url}/{job_id}\")\n",
    "\n",
    "result = json.loads(res.text)[\"items\"]\n",
    "print(f\"{job_id}  {json.loads(res.text)['status']}\")"
   ]
  },
  {
   "cell_type": "markdown",
   "metadata": {},
   "source": [
    "### Print the extracted points"
   ]
  },
  {
   "cell_type": "code",
   "execution_count": null,
   "metadata": {},
   "outputs": [],
   "source": [
    "res.text"
   ]
  },
  {
   "cell_type": "markdown",
   "metadata": {},
   "source": [
    "### Plot curves using the extracted points\n",
    "This plot below is reconstructed using the extracted points"
   ]
  },
  {
   "cell_type": "code",
   "execution_count": null,
   "metadata": {},
   "outputs": [],
   "source": [
    "extracted_curves=json.loads(res.text)['items']\n",
    "for curve in extracted_curves:\n",
    "    plt.plot(curve.get(\"xValues\"),curve.get(\"yValues\"))"
   ]
  },
  {
   "cell_type": "markdown",
   "metadata": {},
   "source": [
    "### Plot the extracted points on the original plot\n",
    "You can verify the extracted points by drawing them on the original plot."
   ]
  },
  {
   "cell_type": "code",
   "execution_count": null,
   "metadata": {},
   "outputs": [],
   "source": [
    "def image_with_prediction(\n",
    "    image,\n",
    "    curves,\n",
    "    point_size: int = 1,\n",
    "    colors: list = [\"blue\", \"green\", \"magenta\", \"cyan\", \"orange\"],\n",
    "    include_image: bool = True,\n",
    "    noise_color=None,\n",
    "):\n",
    "    def plot_points(curve, color):\n",
    "        for x, y in zip(curve.get(\"xPositions\"), curve.get(\"yPositions\")):\n",
    "            draw.ellipse((x - point_size, y - point_size, x + point_size, y + point_size), fill=color)\n",
    "        \n",
    "    if curves is None:\n",
    "        raise NoPredictionException(\"No points are extracted.\")\n",
    "\n",
    "    if isinstance(colors, str):\n",
    "        colors = [colors] * len(curves)\n",
    "\n",
    "    if include_image:\n",
    "        image_with_prediction = image.copy().convert(\"RGB\")\n",
    "    else:\n",
    "        image_with_prediction = Image.new(\"RGB\", image.size, (255, 255, 255))\n",
    "    draw = ImageDraw.Draw(image_with_prediction)\n",
    "    for curve, curve_color in zip(curves, colors):\n",
    "        plot_points(curve, curve_color)\n",
    "    if noise_color is not None:\n",
    "        plot_points(self._noise, noise_color)\n",
    "        \n",
    "    return image_with_prediction"
   ]
  },
  {
   "cell_type": "code",
   "execution_count": null,
   "metadata": {},
   "outputs": [],
   "source": [
    "image_with_prediction(plot_image, extracted_curves)"
   ]
  },
  {
   "cell_type": "code",
   "execution_count": null,
   "metadata": {},
   "outputs": [],
   "source": []
  }
 ],
 "metadata": {
  "kernelspec": {
   "display_name": "Python 3",
   "language": "python",
   "name": "python3"
  },
  "language_info": {
   "codemirror_mode": {
    "name": "ipython",
    "version": 3
   },
   "file_extension": ".py",
   "mimetype": "text/x-python",
   "name": "python",
   "nbconvert_exporter": "python",
   "pygments_lexer": "ipython3",
   "version": "3.7.4"
  }
 },
 "nbformat": 4,
 "nbformat_minor": 4
}
