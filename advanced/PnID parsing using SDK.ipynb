{
 "cells": [
  {
   "cell_type": "markdown",
   "metadata": {},
   "source": [
    "# PnID parsing with SDK-experimental demo\n",
    "\n",
    "This notebook uses Publicdata PnIDs to demonstrate how to contextualize PnIDs using cognite-sdk-python-experimental."
   ]
  },
  {
   "cell_type": "markdown",
   "metadata": {},
   "source": [
    "## Accessing CDF\n",
    "This tutorial assumes you have some basic knowledge of CDF and the Python SDK. If not, please follow the 'lab' tutorials first.\n",
    "\n",
    "For this tutorial you need access the publicdata project / tenant. If you don't have one, you can get an API-key [here](https://content.cognite.com/open-industrial-data)."
   ]
  },
  {
   "cell_type": "markdown",
   "metadata": {},
   "source": [
    "## Setup\n",
    "These steps wil import the SDK and some required packages. \n",
    "You can then connect a client to CDF by pasting your API key in the popup field."
   ]
  },
  {
   "cell_type": "code",
   "execution_count": null,
   "metadata": {},
   "outputs": [],
   "source": [
    "from getpass import getpass\n",
    "from cognite.experimental import CogniteClient"
   ]
  },
  {
   "cell_type": "code",
   "execution_count": null,
   "metadata": {},
   "outputs": [],
   "source": [
    "from IPython.display import display_pdf, Image, display, display_svg"
   ]
  },
  {
   "cell_type": "code",
   "execution_count": null,
   "metadata": {},
   "outputs": [],
   "source": [
    "project = \"publicdata\" # put your project name as string here\n",
    "api_key=getpass(\"Please enter API key: \")\n",
    "client = CogniteClient(\n",
    "    api_key=api_key,\n",
    "    project=project,\n",
    "    client_name=\"DSHub\",\n",
    "    base_url=\"https://api.cognitedata.com\"\n",
    ")"
   ]
  },
  {
   "cell_type": "markdown",
   "metadata": {},
   "source": [
    "## Gather data\n",
    "We will start by finding some PnIDs and corresponding asset names to use in the processing. The PnID parsing tool only supports PDF files, so we'll restrict the search to PDF mime type."
   ]
  },
  {
   "cell_type": "code",
   "execution_count": null,
   "metadata": {},
   "outputs": [],
   "source": [
    "client.files.list(mime_type=\"application/pdf\").to_pandas().head()"
   ]
  },
  {
   "cell_type": "markdown",
   "metadata": {},
   "source": [
    "We will use the file named `PH-ME-P-0156-001.pdf` with id `230063753840368` in the following examples. \n",
    "\n",
    "We can now download the file information and the file content. The file content is not strictly necessary, but is useful to visualize."
   ]
  },
  {
   "cell_type": "code",
   "execution_count": null,
   "metadata": {},
   "outputs": [],
   "source": [
    "f = client.files.retrieve(230063753840368)\n",
    "\n",
    "# Display the PDF file by downloading the content (can be skipped)\n",
    "display_pdf(client.files.download_bytes(f.id), raw=True)"
   ]
  },
  {
   "cell_type": "markdown",
   "metadata": {},
   "source": [
    "The PnID contextualization requires a list of tags/strings to look for in the PnID. This helps the algorithm to only return tags that actually exists. We will therefore download all asset and file data and use the asset names and file names as tags to look for.\n",
    "\n",
    "Note: In a more realistic case, you should limit the list of potential names/tags as much as possible for better performance, e.g by selecting only a subtree of the asset hierarchy."
   ]
  },
  {
   "cell_type": "code",
   "execution_count": null,
   "metadata": {},
   "outputs": [],
   "source": [
    "files = client.files.list(limit=None)\n",
    "assets = client.assets.list(limit=None, partitions=10)\n",
    "print(f\"Retrieved {len(files)} files and {len(assets)} assets\")"
   ]
  },
  {
   "cell_type": "markdown",
   "metadata": {},
   "source": [
    "## Detect assets and files in PnID\n",
    "Now we are ready to run the parser. The job takes two required parameters, the CDF `file_id` of the PnID file and a list of strings to look for called `entities`."
   ]
  },
  {
   "cell_type": "code",
   "execution_count": null,
   "metadata": {},
   "outputs": [],
   "source": [
    "# Create list of asset and file names to look for\n",
    "entities = [f.name for f in files] + [a.name for a in assets]"
   ]
  },
  {
   "cell_type": "code",
   "execution_count": null,
   "metadata": {},
   "outputs": [],
   "source": [
    "# Start PnID parsing job\n",
    "job = client.pnid_parsing.parse(file_id=f.id, entities=entities)"
   ]
  },
  {
   "cell_type": "markdown",
   "metadata": {},
   "source": [
    "The parsing job is run in an asynchronous manner, and the call to `job.result` will wait until it has finished. This might take a few seconds."
   ]
  },
  {
   "cell_type": "code",
   "execution_count": null,
   "metadata": {},
   "outputs": [],
   "source": [
    "results = job.result"
   ]
  },
  {
   "cell_type": "markdown",
   "metadata": {},
   "source": [
    "The results contain  `items`, a list of detected tags, and `svgUrl` which can be used to fetch a highlighted SVG version of the PnID. The URL is valid for 30 seconds."
   ]
  },
  {
   "cell_type": "code",
   "execution_count": null,
   "metadata": {},
   "outputs": [],
   "source": [
    "detected_entities = results[\"items\"]\n",
    "svg = results[\"svgUrl\"]\n",
    "print(f\"Found {len(detected_entities)} assets and files in PnID\")"
   ]
  },
  {
   "cell_type": "code",
   "execution_count": null,
   "metadata": {},
   "outputs": [],
   "source": [
    "# Display the annotated PnID in SVG format\n",
    "Image(url=svg)"
   ]
  },
  {
   "cell_type": "code",
   "execution_count": null,
   "metadata": {
    "scrolled": false
   },
   "outputs": [],
   "source": [
    "# List the first 10 detected tags for further processing\n",
    "for de in detected_entities[0:10]:\n",
    "    print(f'{de[\"text\"]: <15}', de[\"boundingBox\"])"
   ]
  },
  {
   "cell_type": "markdown",
   "metadata": {},
   "source": [
    "## Advanced options"
   ]
  },
  {
   "cell_type": "markdown",
   "metadata": {},
   "source": [
    "The parsing also supports a few advanced options. For an up to date list of all available options, see [the API documentation](https://docs.cognite.com/api/playground/#operation/pnidDetect)."
   ]
  },
  {
   "cell_type": "markdown",
   "metadata": {},
   "source": [
    "### 1 Fuzzy matching of entities\n",
    "In some cases the tag names found in a PnID do not match the asset list exactly. The PnID parsing algorithm is still able to find matches by looking at substrings and similar characters (i.e `0` and `O`, `8` and `B`). To use fuzzy matching, set `partial_match = True`."
   ]
  },
  {
   "cell_type": "code",
   "execution_count": null,
   "metadata": {},
   "outputs": [],
   "source": [
    "job = client.pnid_parsing.parse(file_id=f.id, entities=entities, partial_match=True)\n",
    "fuzzy_results = job.result\n",
    "print(f\"Without partial_match enabled: {len(detected_entities)} assets and files detected\")\n",
    "print(f\"With partial_match enabled:    {len(fuzzy_results['items'])} assets and files detected\")"
   ]
  },
  {
   "cell_type": "markdown",
   "metadata": {},
   "source": [
    "### 2 Using asset aliases\n",
    "In some cases, there exists a known mapping between e.g asset names and the tags found in the PnID. It is possible to provide these aliases to the parsing algorithm as a dictionary called `name_mapping`."
   ]
  },
  {
   "cell_type": "code",
   "execution_count": null,
   "metadata": {},
   "outputs": [],
   "source": [
    "job = client.pnid_parsing.parse(file_id=f.id, \n",
    "                                entities=[\"myawesomeasset\"], \n",
    "                                name_mapping={\"myawesomeasset\":\"23-DB-9101\"}\n",
    "                               )"
   ]
  },
  {
   "cell_type": "code",
   "execution_count": null,
   "metadata": {},
   "outputs": [],
   "source": [
    "job.result[\"items\"]"
   ]
  },
  {
   "cell_type": "markdown",
   "metadata": {},
   "source": [
    "## Detect entities in PnID based on regex pattern\n",
    "This feature is useful if you don't have a pre-defined list of entities to look for in the PnID (like a list of asset tags), but you do know that all strings of interest follow one or more patterns. \n",
    "\n",
    "This method takes a CDF file_id as input, as well as a list of `patterns`. The regular expression patterns must follow the format defined in [the API documentation](https://docs.cognite.com/api/playground/#operation/pnidExtract).\n",
    "\n",
    "The regular expression patterns are limited to simple expressions without wildcards, anchors or repetition symbols, and must include groups of letters or digits to look for. A group is defined by a pattern in parenthesis () and can match either letters or numbers, but not both. Valid groups are e.g. `([A-Z]{2,5})`, `([0-9]{4})`, `(TAG)`. The groups in the pattern can optionally be separated by a separator character like `-` or `_`. The resulting tags will then include this separator character between its matching groups.\n",
    "\n",
    "In the above PnID, we see that many tags follow these patterns:\\\n",
    "`23-TE-96114-01`, i.e (2 digits)-(2 letters)-(5 digits)-(2 digits)\\\n",
    "`23-TE-96114`, i.e (2 digits)-(2 letters)-(5 digits)\n",
    "\n",
    "We can represent this as the following expressions:\\\n",
    "`([0-9]{2})-([A-Z]{2})-([0-9]{5})-([0-9]{2})`\\\n",
    "`([0-9]{2})-([A-Z]{2})-([0-9]{5})`"
   ]
  },
  {
   "cell_type": "code",
   "execution_count": null,
   "metadata": {},
   "outputs": [],
   "source": [
    "# Define a regex-like pattern to search for\n",
    "patterns = [\"([0-9]{2})-([A-Z]{2})-([0-9]{5})-([0-9]{2})\", \"([0-9]{2})-([A-Z]{2})-([0-9]{5})\"]"
   ]
  },
  {
   "cell_type": "markdown",
   "metadata": {},
   "source": [
    "NOTE: This method is not yet supported in SDK, so we are calling the API directly."
   ]
  },
  {
   "cell_type": "code",
   "execution_count": null,
   "metadata": {},
   "outputs": [],
   "source": [
    "response = client.post(f\"/api/playground/projects/{project}/context/pnid/extractpattern\", \n",
    "                       json={\"fileId\": f.id, \"patterns\": patterns}).json()"
   ]
  },
  {
   "cell_type": "code",
   "execution_count": null,
   "metadata": {},
   "outputs": [],
   "source": [
    "get_response = client.get(f\"/api/playground/projects/{project}/context/pnid/extractpattern/{response['jobId']}\").json()\n",
    "# Wait until status=Completed\n",
    "get_response[\"status\"]"
   ]
  },
  {
   "cell_type": "code",
   "execution_count": null,
   "metadata": {},
   "outputs": [],
   "source": [
    "print(f\"Detected {len(get_response['items'])} entities from pattern {pattern}\")"
   ]
  },
  {
   "cell_type": "code",
   "execution_count": null,
   "metadata": {},
   "outputs": [],
   "source": [
    "# Display detected patterns in file\n",
    "response = client.post(f\"/api/playground/projects/{project}/context/pnid/convert\", {\"fileId\": f.id, \"items\": get_response['items']})"
   ]
  },
  {
   "cell_type": "code",
   "execution_count": null,
   "metadata": {},
   "outputs": [],
   "source": [
    "get_response = client.get(f\"/api/playground/projects/{project}/context/pnid/convert/{response.json()['jobId']}\").json()\n",
    "# Wait until status=Completed\n",
    "get_response[\"status\"]"
   ]
  },
  {
   "cell_type": "code",
   "execution_count": null,
   "metadata": {},
   "outputs": [],
   "source": [
    "Image(url=get_response[\"svgUrl\"])"
   ]
  },
  {
   "cell_type": "markdown",
   "metadata": {},
   "source": [
    "# Get raw OCR data from PnID file\n",
    "The Context API is storing the OCR data for each processed PnID, and this data can be retrieved for further processing. \n",
    "\n",
    "NOTE: This method is not yet supported in SDK, so we are calling the API directly."
   ]
  },
  {
   "cell_type": "code",
   "execution_count": null,
   "metadata": {},
   "outputs": [],
   "source": [
    "ocr_response = client.post(f\"/api/playground/projects/{project}/context/pnid/ocr\", {\"fileId\": f.id}).json()"
   ]
  },
  {
   "cell_type": "code",
   "execution_count": null,
   "metadata": {},
   "outputs": [],
   "source": [
    "ocr_data = ocr_response[\"items\"][0][\"annotations\"]\n",
    "print(f\"Extracted {len(ocr_data)} raw text elements from document\")\n",
    "ocr_data[0:5]"
   ]
  },
  {
   "cell_type": "code",
   "execution_count": null,
   "metadata": {},
   "outputs": [],
   "source": [
    "# Display OCR data in file\n",
    "response = client.post(f\"/api/playground/projects/{project}/context/pnid/convert\", {\"fileId\": f.id, \"items\": ocr_data}).json()"
   ]
  },
  {
   "cell_type": "code",
   "execution_count": null,
   "metadata": {},
   "outputs": [],
   "source": [
    "get_response = client.get(f\"/api/playground/projects/{project}/context/pnid/convert/{response['jobId']}\").json()\n",
    "# Wait until status=Completed\n",
    "get_response[\"status\"]"
   ]
  },
  {
   "cell_type": "code",
   "execution_count": null,
   "metadata": {},
   "outputs": [],
   "source": [
    "Image(url=get_response[\"svgUrl\"])"
   ]
  },
  {
   "cell_type": "markdown",
   "metadata": {},
   "source": [
    "## BETA: Detect common objects in PnIDs\n",
    "The PnID API also supports a basic form of object detection, i.e it can identify shapes representing common components in a PnID. We currently support 14 classes of objects.\n",
    "\n",
    "This endpoint takes a single `file_id` parameter, and returns a list of detected objects."
   ]
  },
  {
   "cell_type": "code",
   "execution_count": null,
   "metadata": {},
   "outputs": [],
   "source": [
    "response = client.post(f\"/api/playground/projects/{project}/context/pnidobjects/findobjects\", \n",
    "                       {\"fileId\": f.id}).json()"
   ]
  },
  {
   "cell_type": "code",
   "execution_count": null,
   "metadata": {},
   "outputs": [],
   "source": [
    "get_response = client.get(f\"/api/playground/projects/{project}/context/pnidobjects/{response['jobId']}\").json()\n",
    "# Wait until status=Completed\n",
    "get_response[\"status\"]"
   ]
  },
  {
   "cell_type": "code",
   "execution_count": null,
   "metadata": {},
   "outputs": [],
   "source": [
    "print(f\"Detected {len(get_response['items'])} objects in PnID\")"
   ]
  },
  {
   "cell_type": "code",
   "execution_count": null,
   "metadata": {},
   "outputs": [],
   "source": [
    "# List the first 10 detected objects for further processing\n",
    "for o in get_response['items'][0:10]:\n",
    "    print(f'{o[\"type\"]: <15}', de[\"boundingBox\"])"
   ]
  }
 ],
 "metadata": {
  "kernelspec": {
   "display_name": "Python 3",
   "language": "python",
   "name": "python3"
  },
  "language_info": {
   "codemirror_mode": {
    "name": "ipython",
    "version": 3
   },
   "file_extension": ".py",
   "mimetype": "text/x-python",
   "name": "python",
   "nbconvert_exporter": "python",
   "pygments_lexer": "ipython3",
   "version": "3.7.7"
  }
 },
 "nbformat": 4,
 "nbformat_minor": 4
}
