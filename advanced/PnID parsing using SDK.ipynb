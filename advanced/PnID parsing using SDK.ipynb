{
 "cells": [
  {
   "cell_type": "markdown",
   "metadata": {},
   "source": [
    "# PnID parsing with SDK-experimental demo\n",
    "\n",
    "This notebook uses Publicdata PnIDs to demonstrate how to contextualize PnIDs using cognite-sdk-python-experimental."
   ]
  },
  {
   "cell_type": "markdown",
   "metadata": {},
   "source": [
    "## Accessing CDF\n",
    "This tutorial assumes you have some basic knowledge of CDF and the Python SDK. If not, please follow the 'lab' tutorials first.\n",
    "\n",
    "For this tutorial you need access the publicdata project / tenant. If you don't have one, you can get an API-key [here](https://content.cognite.com/open-industrial-data)."
   ]
  },
  {
   "cell_type": "markdown",
   "metadata": {},
   "source": [
    "## Setup\n",
    "These steps wil import the SDK and install some extra required packages for visualizing in notebooks. \n",
    "You can then connect a client to CDF by pasting your API key in the popup field."
   ]
  },
  {
   "cell_type": "code",
   "execution_count": null,
   "metadata": {},
   "outputs": [],
   "source": [
    "!pip install Pillow numpy bounding_box pdf2image"
   ]
  },
  {
   "cell_type": "code",
   "execution_count": null,
   "metadata": {},
   "outputs": [],
   "source": [
    "from getpass import getpass\n",
    "from cognite.experimental import CogniteClient # version~=0.41\n",
    "from IPython.display import display_pdf, Image, display, display_svg\n",
    "import time"
   ]
  },
  {
   "cell_type": "code",
   "execution_count": null,
   "metadata": {},
   "outputs": [],
   "source": [
    "project = \"publicdata\"  # you can also put your own project name here\n",
    "api_key = getpass(\"Please enter API key: \")\n",
    "client = CogniteClient(\n",
    "    api_key=api_key,\n",
    "    project=project,\n",
    "    client_name=\"DSHub\",\n",
    ")"
   ]
  },
  {
   "cell_type": "markdown",
   "metadata": {},
   "source": [
    "## Gather data\n",
    "We will start by finding some PnIDs and corresponding asset names to use in the processing. The PnID parsing tool only supports PDF files, so we'll restrict the search to PDF mime type."
   ]
  },
  {
   "cell_type": "code",
   "execution_count": null,
   "metadata": {},
   "outputs": [],
   "source": [
    "client.files.list(mime_type=\"application/pdf\")"
   ]
  },
  {
   "cell_type": "markdown",
   "metadata": {},
   "source": [
    "We select one of these files, 'PH-ME-P-0156-001.pdf' with id 230063753840368 to investigate.\n",
    "We can now download the file information and the file content. The file content is not strictly necessary, but is useful to visualize."
   ]
  },
  {
   "cell_type": "code",
   "execution_count": null,
   "metadata": {},
   "outputs": [],
   "source": [
    "file_id = 230063753840368\n",
    "f = client.files.retrieve(file_id)\n",
    "\n",
    "# Display the PDF file by downloading the content (can be skipped)\n",
    "display_pdf(client.files.download_bytes(f.id), raw=True)"
   ]
  },
  {
   "cell_type": "markdown",
   "metadata": {},
   "source": [
    "The PnID contextualization requires a list of tags/strings to look for in the PnID. This helps the algorithm to only return tags that actually exists. We will therefore download all asset and file data and use the asset names and file names as tags to look for.\n",
    "\n",
    "Note: In a more realistic case, you should limit the list of potential names/tags as much as possible for better performance, e.g by selecting only a subtree of the asset hierarchy."
   ]
  },
  {
   "cell_type": "code",
   "execution_count": null,
   "metadata": {},
   "outputs": [],
   "source": [
    "files = client.files.list(limit=None)\n",
    "assets = client.assets.list(limit=None, partitions=10)\n",
    "print(f\"Retrieved {len(files)} files and {len(assets)} assets\")"
   ]
  },
  {
   "cell_type": "markdown",
   "metadata": {},
   "source": [
    "## Detect assets and files in PnID\n",
    "Now we are ready to run the parser. The job takes two required parameters, the CDF `file_id` or `file_external_id` of the PnID file and a list of `entities` to look for, which is either a list of strings, or a list of objects and a search field to use."
   ]
  },
  {
   "cell_type": "code",
   "execution_count": null,
   "metadata": {},
   "outputs": [],
   "source": [
    "entities = files.dump() + assets.dump()"
   ]
  },
  {
   "cell_type": "code",
   "execution_count": null,
   "metadata": {},
   "outputs": [],
   "source": [
    "# Start PnID parsing job\n",
    "job = client.diagrams.detect(\n",
    "    file_ids=[f.id],  # or `file_external_ids` for file's external id\n",
    "    entities=entities,\n",
    "    search_field=\"name\",\n",
    ")"
   ]
  },
  {
   "cell_type": "code",
   "execution_count": null,
   "metadata": {},
   "outputs": [],
   "source": [
    "job"
   ]
  },
  {
   "cell_type": "markdown",
   "metadata": {},
   "source": [
    "The parsing job is run in an asynchronous manner, and the call to `job.result` or any other helper methods will wait until it has finished. This might take a few seconds."
   ]
  },
  {
   "cell_type": "code",
   "execution_count": null,
   "metadata": {},
   "outputs": [],
   "source": [
    "results = job.result\n",
    "print(len(results['items'][0][\"annotations\"]),'matches')"
   ]
  },
  {
   "cell_type": "markdown",
   "metadata": {},
   "source": [
    "The results contain  `items` a list of results per file. Each item contains annotations, file_id and file_external_id."
   ]
  },
  {
   "cell_type": "code",
   "execution_count": null,
   "metadata": {},
   "outputs": [],
   "source": [
    "detected_entities = results['items'][0]['annotations']\n",
    "detected_entities"
   ]
  },
  {
   "cell_type": "code",
   "execution_count": null,
   "metadata": {},
   "outputs": [],
   "source": [
    "detected_entities[0][\"text\"]"
   ]
  },
  {
   "cell_type": "code",
   "execution_count": null,
   "metadata": {},
   "outputs": [],
   "source": [
    "detected_entities[0][\"confidence\"]"
   ]
  },
  {
   "cell_type": "code",
   "execution_count": null,
   "metadata": {},
   "outputs": [],
   "source": [
    "detected_entities[0][\"entities\"]"
   ]
  },
  {
   "cell_type": "code",
   "execution_count": null,
   "metadata": {},
   "outputs": [],
   "source": [
    "job.image # downloads file and draws bounding boxes with text"
   ]
  },
  {
   "cell_type": "markdown",
   "metadata": {},
   "source": [
    "## Annotate detected items in SVG format"
   ]
  },
  {
   "cell_type": "markdown",
   "metadata": {},
   "source": [
    "You can convert the result to svg with the convert method"
   ]
  },
  {
   "cell_type": "code",
   "execution_count": null,
   "metadata": {},
   "outputs": [],
   "source": [
    "convert_image_job.image"
   ]
  },
  {
   "cell_type": "code",
   "execution_count": null,
   "metadata": {},
   "outputs": [],
   "source": [
    "convert_image_job = job.convert()\n",
    "#convert_image_job.image # returns an svg image"
   ]
  },
  {
   "cell_type": "markdown",
   "metadata": {},
   "source": [
    "Download svg of first page of the document:"
   ]
  },
  {
   "cell_type": "code",
   "execution_count": null,
   "metadata": {},
   "outputs": [],
   "source": [
    "convert_result = convert_image_job.result\n",
    "\n",
    "svg_url = convert_result[\"items\"][0][\"results\"][0][\"svgUrl\"]\n",
    "import webbrowser\n",
    "webbrowser.open(svg_url, new=2)\n"
   ]
  },
  {
   "cell_type": "markdown",
   "metadata": {},
   "source": [
    "## Advanced options"
   ]
  },
  {
   "cell_type": "markdown",
   "metadata": {},
   "source": [
    "The parsing also supports a few advanced options. For an up to date list of all available options, see [the API documentation](https://docs.cognite.com/api/playground/#operation/pnidDetect)."
   ]
  },
  {
   "cell_type": "markdown",
   "metadata": {},
   "source": [
    "### 1 Partial matches\n",
    "In some cases the tag names found in a PnID only constitute parts of the tag names. There could be a prefix common to all the tags, which is omitted in the PnID. Set `partial_match = True` in order to get detections based on a substring of the tag as long as that substring is unique enough to identify a single tag."
   ]
  },
  {
   "cell_type": "code",
   "execution_count": null,
   "metadata": {},
   "outputs": [],
   "source": [
    "job = client.diagrams.detect(file_ids=[f.id], entities=entities, partial_match=True)\n",
    "partial_match_results = job.result['items'][0]['annotations']"
   ]
  },
  {
   "cell_type": "code",
   "execution_count": null,
   "metadata": {},
   "outputs": [],
   "source": [
    "print(f\"Without partial_match enabled: {len(detected_entities)} assets and files detected\")\n",
    "print(f\"With partial_match enabled:    {len(partial_match_results)} assets and files detected\")"
   ]
  },
  {
   "cell_type": "markdown",
   "metadata": {},
   "source": [
    "### 2 Using multiple names for the same entity\n",
    "Dear assets have many names. If there are multiple known names for the same asset, one may provide a list of names instead of just the original name. Below we show how to both look for the name, and the name written in reverse:"
   ]
  },
  {
   "cell_type": "code",
   "execution_count": null,
   "metadata": {},
   "outputs": [],
   "source": [
    "entities_with_reverse_aliases = [\n",
    "    {k: (v if k!=\"name\" else [v, v[::-1]]) for k, v in entity.items()}\n",
    "    for entity in entities\n",
    "]\n",
    "entities_with_reverse_aliases[0][\"name\"]"
   ]
  },
  {
   "cell_type": "code",
   "execution_count": null,
   "metadata": {},
   "outputs": [],
   "source": [
    "job = client.pnid_parsing.detect(\n",
    "    file_ids=[f.id],\n",
    "    entities=entities_with_reverse_aliases,\n",
    ")"
   ]
  },
  {
   "cell_type": "code",
   "execution_count": null,
   "metadata": {},
   "outputs": [],
   "source": [
    "job.result"
   ]
  },
  {
   "cell_type": "markdown",
   "metadata": {},
   "source": [
    "## Detect entities in PnID based on regex pattern\n",
    "This feature is useful if you don't have a pre-defined list of entities to look for in the PnID (like a list of asset tags), but you do know that all strings of interest follow one or more patterns. \n",
    "\n",
    "This method takes a CDF file_id as input, as well as a list of `patterns`. The regular expression patterns must follow the format defined in [the API documentation](https://docs.cognite.com/api/playground/#operation/pnidExtract). This endpoint is not in V1, and it only supports single page documents, and one document at a time.\n",
    "\n",
    "The regular expression patterns are limited to simple expressions without wildcards, anchors or repetition symbols, and must include groups of letters or digits to look for. A group is defined by a pattern in parenthesis () and can match either letters or numbers, but not both. Valid groups are e.g. `([A-Z]{2,5})`, `([0-9]{4})`, `(TAG)`. The groups in the pattern can optionally be separated by a separator character like `-` or `_`. The resulting tags will then include this separator character between its matching groups.\n",
    "\n",
    "In the above PnID, we see that many tags follow these patterns:\\\n",
    "`23-TE-96114-01`, i.e (2 digits)-(2 letters)-(5 digits)-(2 digits)\\\n",
    "`23-TE-96114`, i.e (2 digits)-(2 letters)-(5 digits)\n",
    "\n",
    "We can represent this as the following expressions:\\\n",
    "`([0-9]{2})-([A-Z]{2})-([0-9]{5})-([0-9]{2})`\\\n",
    "`([0-9]{2})-([A-Z]{2})-([0-9]{5})`"
   ]
  },
  {
   "cell_type": "code",
   "execution_count": null,
   "metadata": {},
   "outputs": [],
   "source": [
    "# Define a regex-like pattern to search for\n",
    "patterns = [\n",
    "    \"([0-9]{2})-([A-Z]{2})-([0-9]{5})-([0-9]{2})\",\n",
    "    \"([0-9]{2})-([A-Z]{2})-([0-9]{5})\",\n",
    "]"
   ]
  },
  {
   "cell_type": "code",
   "execution_count": null,
   "metadata": {},
   "outputs": [],
   "source": [
    "pattern_job = client.pnid_parsing.extract_pattern(file_id=f.id,patterns=patterns)"
   ]
  },
  {
   "cell_type": "code",
   "execution_count": null,
   "metadata": {},
   "outputs": [],
   "source": [
    "pattern_job.matches"
   ]
  },
  {
   "cell_type": "code",
   "execution_count": null,
   "metadata": {},
   "outputs": [],
   "source": [
    "print(f\"Detected {len(pattern_job.matches)} entities from patterns {patterns}\")"
   ]
  },
  {
   "cell_type": "markdown",
   "metadata": {},
   "source": [
    "# Get raw OCR data from PnID file\n",
    "The Context API is storing the OCR data for each processed PnID, and this data can be retrieved for further processing. \n"
   ]
  },
  {
   "cell_type": "code",
   "execution_count": null,
   "metadata": {},
   "outputs": [],
   "source": [
    "ocr_results = client.pnid_parsing.ocr(file_id=f.id)\n",
    "ocr_results"
   ]
  },
  {
   "cell_type": "code",
   "execution_count": null,
   "metadata": {},
   "outputs": [],
   "source": [
    "ocr_results.image # PIL image with bounding boxes"
   ]
  },
  {
   "cell_type": "markdown",
   "metadata": {},
   "source": [
    "You can also get this data from a detect job, or use these results in a convert job"
   ]
  },
  {
   "cell_type": "code",
   "execution_count": null,
   "metadata": {},
   "outputs": [],
   "source": [
    "job.ocr()"
   ]
  },
  {
   "cell_type": "code",
   "execution_count": null,
   "metadata": {},
   "outputs": [],
   "source": [
    "ocr_image = job.convert(ocr=True)\n",
    "ocr_image.image # svg image with highlights"
   ]
  },
  {
   "cell_type": "markdown",
   "metadata": {},
   "source": [
    "## ALPHA: Detect common objects from PnIDs using SDK\n",
    "The SDK also supports a basic form of object detection in P&IDs with single-paged PDF format, i.e it can identify shapes representing common components in a PnID. We currently support 20 classes of objects (valve, indicator, shared indicator, ball valve, diamond, tag, triangle, square with diagonal line, pump or centrifuge, flange, reducer, rotameter, slope, cloud, heat exchanger, note, logo, table, spectacle blind, object.)\n",
    "\n",
    "This function takes a single `file_id` parameter, and returns a list of detected objects. For API usage, please refer to `pnidobjects_demo_api.ipynb`"
   ]
  },
  {
   "cell_type": "code",
   "execution_count": null,
   "metadata": {},
   "outputs": [],
   "source": [
    "object_job = client.pnid_object_detection.find_objects(file_id=f.id)"
   ]
  },
  {
   "cell_type": "code",
   "execution_count": null,
   "metadata": {},
   "outputs": [],
   "source": [
    "results = object_job.result\n",
    "detected_objects = results[\"items\"]\n",
    "print(f\"Found {len(detected_objects)} objects in PnID\")\n",
    "print(f\"Types found: {list({de['type'] for de in detected_objects})}\")"
   ]
  },
  {
   "cell_type": "code",
   "execution_count": null,
   "metadata": {},
   "outputs": [],
   "source": [
    "# List the first 10 detected objects for further processing\n",
    "for de in detected_objects[0:10]:\n",
    "    print(f'{de[\"type\"]: <20}', f'score: {de[\"score\"]: 15f}', de[\"boundingBox\"])"
   ]
  },
  {
   "cell_type": "code",
   "execution_count": null,
   "metadata": {},
   "outputs": [],
   "source": []
  }
 ],
 "metadata": {
  "kernelspec": {
   "display_name": "Python 3 (ipykernel)",
   "language": "python",
   "name": "python3"
  },
  "language_info": {
   "codemirror_mode": {
    "name": "ipython",
    "version": 3
   },
   "file_extension": ".py",
   "mimetype": "text/x-python",
   "name": "python",
   "nbconvert_exporter": "python",
   "pygments_lexer": "ipython3",
   "version": "3.10.5"
  }
 },
 "nbformat": 4,
 "nbformat_minor": 4
}
