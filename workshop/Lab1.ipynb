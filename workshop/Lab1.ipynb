{
 "cells": [
  {
   "cell_type": "markdown",
   "metadata": {},
   "source": [
    "# Cognite workshop lab 1 - Getting started\n",
    "Estimated time: 15 minutes."
   ]
  },
  {
   "cell_type": "markdown",
   "metadata": {},
   "source": [
    "## Get access to CDF\n",
    "Before you begin this tutorial, you must have access to a Cognite project / tenant. If you don't have access, you can get access to our `publicdata` project at https://openindustrialdata.com, but note that you will not be able to create assets in that project. It is recommended that you have write access when doing this tutorial. If you don't have your own project, you can apply for one [here](https://cognitedata.atlassian.net/wiki/spaces/CSF/pages/1113523070/Creating+a+new+tenant). It takes typically a day or two to create your project."
   ]
  },
  {
   "cell_type": "markdown",
   "metadata": {},
   "source": [
    "## Import modules\n",
    "We need to import some Python modules in order to interact with CDF. We will use the Python SDK, which we below refer to as a `client`.\n",
    "\n",
    "You need an API key to get access to CDF. This API key should be treated as a password, so do not stor it as clear text in code, for example in these notebooks. But you still need to paste it in for the SDK client to use it, so in order to achieve that, we use a module called `getpass` that will allow you to enter secrets like this which will be stored in memory only.\n",
    "\n",
    "The blocks of code in a notebook are called `cells`. They can be executed by pressing shift+enter when selected. You will see a blue box around the selected cell. \n",
    "\n",
    "Now run the cell with the two import statements below."
   ]
  },
  {
   "cell_type": "code",
   "execution_count": null,
   "metadata": {},
   "outputs": [],
   "source": [
    "from getpass import getpass\n",
    "from cognite.client import CogniteClient"
   ]
  },
  {
   "cell_type": "markdown",
   "metadata": {},
   "source": [
    "To get access to your project, replace `publicdata` with your project name in the next cell. When you create the `CogniteClient` below, `getpass` will ask for your API key in an extra password field. Simply paste it in and press shift+enter."
   ]
  },
  {
   "cell_type": "code",
   "execution_count": null,
   "metadata": {},
   "outputs": [],
   "source": [
    "client = CogniteClient(\n",
    "    api_key=getpass(\"Please enter API key: \"),\n",
    "    project=\"publicdata\",\n",
    "    client_name=\"DSHub\",\n",
    "    base_url=\"https://api.cognitedata.com\"\n",
    ")"
   ]
  },
  {
   "cell_type": "markdown",
   "metadata": {},
   "source": [
    "## List assets \n",
    "We can now run this cell to verify that this works. This cell will list some of the assets in your project. If you don't have any assets in your project, the list will be empty. If this is the case, redo this after you have created some assets below."
   ]
  },
  {
   "cell_type": "code",
   "execution_count": null,
   "metadata": {
    "scrolled": true
   },
   "outputs": [],
   "source": [
    "assets = client.assets.list()\n",
    "assets"
   ]
  },
  {
   "cell_type": "markdown",
   "metadata": {},
   "source": [
    "The SDK will by default limit the number of assets to 25. In order to list more assets, you can use the `limit = 100` option to the `list` function. To retrieve all assets, use `limit=-1`."
   ]
  },
  {
   "cell_type": "code",
   "execution_count": null,
   "metadata": {},
   "outputs": [],
   "source": [
    "assets = client.assets.list(limit=100)\n",
    "assets"
   ]
  },
  {
   "cell_type": "markdown",
   "metadata": {},
   "source": [
    "## Create an asset\n",
    "As the final step in this tutorial, we will create some data. To create data, we need to import the data class for the resource type you want to create. We will create a couple of assets, so we need to import the `Asset` data class.\n",
    "\n",
    "SDK documentation: https://cognite-docs.readthedocs-hosted.com/projects/cognite-sdk-python/en/latest/cognite.html#create-assets\n",
    "\n",
    "(If you get an error message with error code 403, it means you don't have access to create assets. Head over to [console](https://console.cognitedata.com) and create a group with write access to assets, and assign that group to your service account.)"
   ]
  },
  {
   "cell_type": "code",
   "execution_count": null,
   "metadata": {},
   "outputs": [],
   "source": [
    "from cognite.client.data_classes import Asset\n",
    "assets = [Asset(name=\"My first asset\"), Asset(name=\"Another amazing asset\")]\n",
    "created_assets = client.assets.create(assets)\n",
    "created_assets"
   ]
  },
  {
   "cell_type": "markdown",
   "metadata": {},
   "source": [
    "Here you can see the two assets you just created. If you now go back to listing assets above, you will find them (unless you have a lot of assets in your project). You can also search for the assets, which is typically how you find information in CDF.\n",
    "\n",
    "Try changing the search term from `first` to `asset`, or `amazing`."
   ]
  },
  {
   "cell_type": "code",
   "execution_count": null,
   "metadata": {},
   "outputs": [],
   "source": [
    "assets = client.assets.search(name=\"first\")\n",
    "assets"
   ]
  },
  {
   "cell_type": "markdown",
   "metadata": {},
   "source": [
    "## Cleanup - delete tutorial data\n",
    "We want to delete the objects we created above. To do that, we first fetch all data that was created, and then delete them."
   ]
  },
  {
   "cell_type": "code",
   "execution_count": null,
   "metadata": {},
   "outputs": [],
   "source": [
    "client.assets.delete(id=[created_assets[0].id, created_assets[1].id])"
   ]
  },
  {
   "cell_type": "markdown",
   "metadata": {},
   "source": [
    "Congratulations, you have interacted with CDF and both retrieved and created data. In the next tutorial we will look at how you can create time series, insert data points and plot data.\n",
    "\n",
    "[Go to lab 2](./Lab2.ipynb)"
   ]
  },
  {
   "cell_type": "code",
   "execution_count": null,
   "metadata": {},
   "outputs": [],
   "source": []
  }
 ],
 "metadata": {
  "kernelspec": {
   "display_name": "Python 3",
   "language": "python",
   "name": "python3"
  },
  "language_info": {
   "codemirror_mode": {
    "name": "ipython",
    "version": 3
   },
   "file_extension": ".py",
   "mimetype": "text/x-python",
   "name": "python",
   "nbconvert_exporter": "python",
   "pygments_lexer": "ipython3",
   "version": "3.7.4"
  }
 },
 "nbformat": 4,
 "nbformat_minor": 2
}
